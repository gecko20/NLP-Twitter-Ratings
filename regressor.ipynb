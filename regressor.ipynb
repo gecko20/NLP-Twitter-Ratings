{
 "cells": [
  {
   "cell_type": "code",
   "execution_count": 1,
   "metadata": {
    "collapsed": false,
    "jupyter": {
     "outputs_hidden": false
    },
    "pycharm": {
     "name": "#%%\n"
    }
   },
   "outputs": [],
   "source": [
    "import tweepy\n",
    "import twint\n",
    "import nltk\n",
    "from nltk.corpus import stopwords\n",
    "#from nltk.stem import PorterStemmer\n",
    "from nltk.stem import Cistem\n",
    "#from nltk.stem.snowball import GermanStemmer\n",
    "from nltk.tokenize import TweetTokenizer\n",
    "#import re\n",
    "import regex as re\n",
    "import emoji\n",
    "import datetime\n",
    "import glob\n",
    "import io\n",
    "import os\n",
    "import random\n",
    "import string\n",
    "import unicodedata\n",
    "import time\n",
    "import sys\n",
    "import pandas as pd\n",
    "import numpy as np\n",
    "from scipy import stats\n",
    "import sklearn\n",
    "from sklearn.preprocessing import QuantileTransformer\n",
    "from sklearn.mixture import GaussianMixture as GMM\n",
    "from sklearn.utils.class_weight import compute_class_weight\n",
    "from sklearn.metrics import confusion_matrix\n",
    "import matplotlib.pyplot as plt\n",
    "from wordcloud import WordCloud\n",
    "import seaborn as sns\n",
    "from pprint import pprint\n",
    "\n",
    "import tensorflow as tf\n",
    "import tensorflow_datasets as tfds\n",
    "from tensorflow.keras import Model\n",
    "from tensorflow.keras import Sequential\n",
    "from tensorflow.keras.initializers import Constant\n",
    "from tensorflow.keras.constraints import max_norm\n",
    "from tensorflow.keras.layers.experimental.preprocessing import TextVectorization\n",
    "from tensorflow.keras.layers.experimental.preprocessing import StringLookup\n",
    "from tensorflow.keras import layers\n",
    "from tensorflow.keras.callbacks import EarlyStopping\n",
    "from tensorflow.keras.callbacks import ModelCheckpoint\n",
    "from tensorflow.keras.models import load_model\n",
    "\n",
    "import tqdm\n",
    "\n",
    "# Workaround for Jupyter's \"This event loop is already running\" exception\n",
    "import nest_asyncio\n",
    "nest_asyncio.apply()"
   ]
  },
  {
   "cell_type": "code",
   "execution_count": 2,
   "metadata": {
    "collapsed": false,
    "jupyter": {
     "outputs_hidden": false
    },
    "pycharm": {
     "name": "#%%\n"
    }
   },
   "outputs": [
    {
     "name": "stdout",
     "output_type": "stream",
     "text": [
      "/device:GPU:0\n",
      "GPU available.\n",
      "1.19.5\n"
     ]
    }
   ],
   "source": [
    "# Check for GPU availability\n",
    "if tf.test.gpu_device_name():\n",
    "    print(tf.test.gpu_device_name())\n",
    "    print(\"GPU available.\")\n",
    "else:\n",
    "    print(\"GPU not available.\")\n",
    "\n",
    "# Print numpy version\n",
    "print(np.__version__) ## For LSTM layers to work, numpy must be version 1.19.5 for some reason\n",
    "\n",
    "tweets = None\n"
   ]
  },
  {
   "cell_type": "code",
   "execution_count": 6,
   "metadata": {
    "collapsed": false,
    "jupyter": {
     "outputs_hidden": false
    },
    "pycharm": {
     "name": "#%%\n"
    }
   },
   "outputs": [],
   "source": [
    "#handle = \"gecko203\"\n",
    "#handle = \"FiatPecunia\"\n",
    "handle = \"Erdayastronaut\"\n",
    "batch_size = 32 #16 #4 #= 32\n",
    "buffer_size = 10000\n",
    "seed = 42\n",
    "window_size = 4\n",
    "embedding_dim = 0 #128 # Must be equal to the dimension of the trained embedding; is set later on\n",
    "num_ns = 4 # Number of negative samples\n",
    "sequence_length = 20 #10 TODO: Set to the longest tweet!\n",
    "\n",
    "# Load both datasets\n",
    "train_dataset_0 = tf.data.experimental.make_csv_dataset(\n",
    "    \"{}/preproc/train_only_0.csv\".format(handle), batch_size=batch_size,\n",
    "    label_name=\"rating\", select_columns=['rating', 'tweet'],\n",
    "    num_epochs=1)\n",
    "test_dataset_0 = tf.data.experimental.make_csv_dataset(\n",
    "    \"{}/preproc/test_only_0.csv\".format(handle), batch_size=batch_size,\n",
    "    label_name=\"rating\", select_columns=['rating', 'tweet'],\n",
    "    num_epochs=1)\n",
    "val_dataset_0 = tf.data.experimental.make_csv_dataset(\n",
    "    \"{}/preproc/val_only_0.csv\".format(handle), batch_size=batch_size,\n",
    "    label_name=\"rating\", select_columns=['rating', 'tweet'],\n",
    "    num_epochs=1)\n",
    "\n",
    "train_dataset_1 = tf.data.experimental.make_csv_dataset(\n",
    "    \"{}/preproc/train_only_1.csv\".format(handle), batch_size=batch_size,\n",
    "    label_name=\"rating\", select_columns=['rating', 'tweet'],\n",
    "    num_epochs=1)\n",
    "test_dataset_1 = tf.data.experimental.make_csv_dataset(\n",
    "    \"{}/preproc/test_only_1.csv\".format(handle), batch_size=batch_size,\n",
    "    label_name=\"rating\", select_columns=['rating', 'tweet'],\n",
    "    num_epochs=1)\n",
    "val_dataset_1 = tf.data.experimental.make_csv_dataset(\n",
    "    \"{}/preproc/val_only_1.csv\".format(handle), batch_size=batch_size,\n",
    "    label_name=\"rating\", select_columns=['rating', 'tweet'],\n",
    "    num_epochs=1)"
   ]
  },
  {
   "cell_type": "code",
   "execution_count": 8,
   "metadata": {
    "collapsed": false,
    "jupyter": {
     "outputs_hidden": false
    },
    "pycharm": {
     "name": "#%%\n"
    }
   },
   "outputs": [
    {
     "name": "stdout",
     "output_type": "stream",
     "text": [
      "tweet               : [b'edl team officially handed control perseveranc crui team controlled rover spac pas month thank hard work las month crui team countdowntomar'\n",
      " b'wai anna isn princess mea elsa kind understa she quee anna literally princess'\n",
      " b'living dream 9 day go clo hatch head back earth'\n",
      " b'yes dietitia need 4year bachelor scienc degree 1year hospital internship continuing educatio credi every year called registered dietitiannutritioni rdn nutritioni don need qualificatio'\n",
      " b'ict mini ira day ago tweeted pictur irania spac sui exposed converted nasa hallowee costum mistak proto america rock'\n",
      " b'randy pari cag tonigh stressrelief' b'cooking christma day dinn'\n",
      " b'good stuff' b'cool'\n",
      " b'week four astronau took quick field trip outsid statio crew drago vehicl statio expanded resid arrival soyuz ms18 spacecraf spacetogrou'\n",
      " b'know averag america meal travel 15002500 mil get pla verticalfarming one many exponential technologie converging disrup eat futureoffood agricultur'\n",
      " b'nanoj sun see clearly fir tim spacecraf video'\n",
      " b'lminu minu relea spaceshiptwo mothership whiteknighttwo'\n",
      " b'grea job alway'\n",
      " b'putting full suppor behi tim fly par dearmooncrew ive shared amazing adventur dud year see hard work tell story tim reach inspir peopl lasting way obviou choic'\n",
      " b'yes plea' b'absolutely' b'music hack brai' b'wow 2 moo express 1 story'\n",
      " b'much hot glu think orbi arou earth righ'\n",
      " b'delta attempting ok crushing autofillchalleng check'\n",
      " b'launch new liv morning show dm fall twitt goliv'\n",
      " b'tried fresh tomato yesterday cam progress unbelievably deliciou could tas earth bluedo'\n",
      " b'inspiring fea spac spor unify world spiri gam united colorful celestial bodie including brigh full moo visibl tonigh star tokyoolympic'\n",
      " b'tak par spaceapp year proposing challeng sharing new data canadia citie hosting eve oct 1921 info coming soo her recap las year'\n",
      " b'go expected 8th final mai steel sectio top launch tower assum sor cap mystery stuff cap almo exactly though coming'\n",
      " b'cowri legendary spac journali leonard david interviewing book signing'\n",
      " b'look lik old hardwar worked'\n",
      " b'absolutely lov projec muttnik welcom 21s century'\n",
      " b'would eve pos someo ever watched seco colleg basketball know big gt mvc'\n",
      " b'would lov new hard driv' b'homie dummy respectful']\n",
      "\n",
      "label               : [0.56395555 0.44899216 0.5691006  0.38865754 0.402271   0.39593938\n",
      " 0.48605633 0.49466357 0.5582839  0.3756299  0.53752667 0.5199179\n",
      " 0.6162385  0.50139916 0.49310166 0.39518696 0.5462732  0.44793415\n",
      " 0.37904516 0.49493784 0.5035812  0.45390168 0.6350668  0.56384283\n",
      " 0.5618764  0.4555653  0.5199179  0.46374002 0.53100413 0.4580874\n",
      " 0.4190253  0.5292557 ]\n"
     ]
    }
   ],
   "source": [
    "for feature_batch, label in train_dataset_1.take(1):\n",
    "    for key, value in feature_batch.items():\n",
    "        print(f\"{key:20s}: {value}\")\n",
    "    print()\n",
    "    print(f\"{'label':20s}: {label}\")"
   ]
  },
  {
   "cell_type": "markdown",
   "metadata": {},
   "source": [
    "### Load the Word2Vec-Embedding"
   ]
  },
  {
   "cell_type": "code",
   "execution_count": 9,
   "metadata": {
    "collapsed": false,
    "jupyter": {
     "outputs_hidden": false
    },
    "pycharm": {
     "name": "#%%\n"
    }
   },
   "outputs": [
    {
     "data": {
      "text/html": [
       "<div>\n",
       "<style scoped>\n",
       "    .dataframe tbody tr th:only-of-type {\n",
       "        vertical-align: middle;\n",
       "    }\n",
       "\n",
       "    .dataframe tbody tr th {\n",
       "        vertical-align: top;\n",
       "    }\n",
       "\n",
       "    .dataframe thead th {\n",
       "        text-align: right;\n",
       "    }\n",
       "</style>\n",
       "<table border=\"1\" class=\"dataframe\">\n",
       "  <thead>\n",
       "    <tr style=\"text-align: right;\">\n",
       "      <th></th>\n",
       "      <th>word</th>\n",
       "      <th>vec</th>\n",
       "    </tr>\n",
       "  </thead>\n",
       "  <tbody>\n",
       "    <tr>\n",
       "      <th>0</th>\n",
       "      <td>spac</td>\n",
       "      <td>[-0.32695767, -0.17167582, 0.011153313, 0.0092...</td>\n",
       "    </tr>\n",
       "    <tr>\n",
       "      <th>1</th>\n",
       "      <td>launch</td>\n",
       "      <td>[0.08093554, -0.028579453, -0.26883894, 0.1231...</td>\n",
       "    </tr>\n",
       "    <tr>\n",
       "      <th>2</th>\n",
       "      <td>new</td>\n",
       "      <td>[0.03214778, -0.1227091, 0.085580446, -0.09208...</td>\n",
       "    </tr>\n",
       "    <tr>\n",
       "      <th>3</th>\n",
       "      <td>today</td>\n",
       "      <td>[-0.17026189, 0.020195112, -0.030954506, 0.138...</td>\n",
       "    </tr>\n",
       "    <tr>\n",
       "      <th>4</th>\n",
       "      <td>amp</td>\n",
       "      <td>[0.07966693, -0.16393906, -0.0019979428, 0.293...</td>\n",
       "    </tr>\n",
       "  </tbody>\n",
       "</table>\n",
       "</div>"
      ],
      "text/plain": [
       "     word                                                vec\n",
       "0    spac  [-0.32695767, -0.17167582, 0.011153313, 0.0092...\n",
       "1  launch  [0.08093554, -0.028579453, -0.26883894, 0.1231...\n",
       "2     new  [0.03214778, -0.1227091, 0.085580446, -0.09208...\n",
       "3   today  [-0.17026189, 0.020195112, -0.030954506, 0.138...\n",
       "4     amp  [0.07966693, -0.16393906, -0.0019979428, 0.293..."
      ]
     },
     "execution_count": 9,
     "metadata": {},
     "output_type": "execute_result"
    }
   ],
   "source": [
    "emb_df = pd.read_pickle('{}/preproc/gensim_w2v_dict.pkl'.format(handle))\n",
    "emb_df.head()"
   ]
  },
  {
   "cell_type": "code",
   "execution_count": 10,
   "metadata": {
    "collapsed": false,
    "jupyter": {
     "outputs_hidden": false
    },
    "pycharm": {
     "name": "#%%\n"
    }
   },
   "outputs": [
    {
     "name": "stdout",
     "output_type": "stream",
     "text": [
      "36333\n",
      "256\n",
      "<class 'numpy.ndarray'>\n",
      "0    [0.0, 0.0, 0.0, 0.0, 0.0, 0.0, 0.0, 0.0, 0.0, ...\n",
      "1    [0.0, 0.0, 0.0, 0.0, 0.0, 0.0, 0.0, 0.0, 0.0, ...\n",
      "2    [-0.32695767, -0.17167582, 0.011153313, 0.0092...\n",
      "3    [0.08093554, -0.028579453, -0.26883894, 0.1231...\n",
      "4    [0.03214778, -0.1227091, 0.085580446, -0.09208...\n",
      "dtype: object\n",
      "36335\n",
      "['', '[UNK]', 'spac']\n"
     ]
    }
   ],
   "source": [
    "print(len(emb_df[\"word\"]))\n",
    "\n",
    "# Since the StringLookup-Layer or the TextVectorization-Layer prepend two new words ('' and [UNK]),\n",
    "# we need to \"shift\" the weight matrix by two by prepending \"empty\" rows...\n",
    "# This could lead to problems if we later try to infer on new strings containing\n",
    "# words which are out of vocabulary... (?)\n",
    "\n",
    "embedding_matrix = emb_df[\"vec\"]\n",
    "embedding_dim = len(embedding_matrix[0])\n",
    "print(embedding_dim)\n",
    "\n",
    "data = []\n",
    "print(type(emb_df[\"vec\"][0]))\n",
    "data.insert(0, np.zeros(embedding_dim))\n",
    "data.insert(0, np.zeros(embedding_dim))\n",
    "embedding_matrix = pd.concat([pd.Series(data), embedding_matrix], ignore_index=True)\n",
    "print(embedding_matrix.head())\n",
    "\n",
    "\n",
    "#emb_df = pd.concat([pd.DataFrame(data), emb_df], ignore_index=True)\n",
    "#print(emb_df.head())\n",
    "#layer = StringLookup(vocabulary=list(emb_df[\"word\"]))\n",
    "vectorize_layer = TextVectorization(output_sequence_length=sequence_length,\n",
    "                                    vocabulary=list(emb_df[\"word\"]))\n",
    "\n",
    "vocab_size = len(vectorize_layer.get_vocabulary())\n",
    "\n",
    "print(vocab_size)\n",
    "print(vectorize_layer.get_vocabulary()[:3])"
   ]
  },
  {
   "cell_type": "code",
   "execution_count": 11,
   "metadata": {
    "collapsed": false,
    "jupyter": {
     "outputs_hidden": false
    },
    "pycharm": {
     "name": "#%%\n"
    }
   },
   "outputs": [],
   "source": [
    "def vectorize_text(text, label):\n",
    "    text = text['tweet']\n",
    "    return vectorize_layer(text), label"
   ]
  },
  {
   "cell_type": "code",
   "execution_count": 12,
   "metadata": {
    "collapsed": false,
    "jupyter": {
     "outputs_hidden": false
    },
    "pycharm": {
     "name": "#%%\n"
    }
   },
   "outputs": [
    {
     "name": "stdout",
     "output_type": "stream",
     "text": [
      "WARNING:tensorflow:AutoGraph could not transform <function vectorize_text at 0x7f276a070670> and will run it as-is.\n",
      "Please report this to the TensorFlow team. When filing the bug, set the verbosity to 10 (on Linux, `export AUTOGRAPH_VERBOSITY=10`) and attach the full output.\n",
      "Cause: module 'gast' has no attribute 'Index'\n",
      "To silence this warning, decorate the function with @tf.autograph.experimental.do_not_convert\n",
      "WARNING: AutoGraph could not transform <function vectorize_text at 0x7f276a070670> and will run it as-is.\n",
      "Please report this to the TensorFlow team. When filing the bug, set the verbosity to 10 (on Linux, `export AUTOGRAPH_VERBOSITY=10`) and attach the full output.\n",
      "Cause: module 'gast' has no attribute 'Index'\n",
      "To silence this warning, decorate the function with @tf.autograph.experimental.do_not_convert\n"
     ]
    }
   ],
   "source": [
    "AUTOTUNE = tf.data.AUTOTUNE\n",
    "\n",
    "# Map all strings to their integer representations\n",
    "train_dataset_0 = train_dataset_0.map(vectorize_text)\n",
    "test_dataset_0  = test_dataset_0.map(vectorize_text)\n",
    "val_dataset_0   = val_dataset_0.map(vectorize_text)\n",
    "\n",
    "train_dataset_0 = train_dataset_0.cache().prefetch(buffer_size=AUTOTUNE)\n",
    "test_dataset_0 = test_dataset_0.cache().prefetch(buffer_size=AUTOTUNE)\n",
    "val_dataset_0 = val_dataset_0.cache().prefetch(buffer_size=AUTOTUNE)\n",
    "\n",
    "\n",
    "train_dataset_1 = train_dataset_1.map(vectorize_text)\n",
    "test_dataset_1  = test_dataset_1.map(vectorize_text)\n",
    "val_dataset_1   = val_dataset_1.map(vectorize_text)\n",
    "\n",
    "train_dataset_1 = train_dataset_1.cache().prefetch(buffer_size=AUTOTUNE)\n",
    "test_dataset_1 = test_dataset_1.cache().prefetch(buffer_size=AUTOTUNE)\n",
    "val_dataset_1 = val_dataset_1.cache().prefetch(buffer_size=AUTOTUNE)"
   ]
  },
  {
   "cell_type": "markdown",
   "metadata": {},
   "source": [
    "## Finally define and train our both regressor models..."
   ]
  },
  {
   "cell_type": "code",
   "execution_count": 31,
   "metadata": {
    "collapsed": false,
    "jupyter": {
     "outputs_hidden": false
    },
    "pycharm": {
     "name": "#%%\n"
    }
   },
   "outputs": [],
   "source": [
    "def make_basic(sl=20):\n",
    "    \"\"\"\n",
    "    A basic and simple sequential model.\n",
    "    :param sl: Input sequence length\n",
    "    :return:\n",
    "    \"\"\"\n",
    "    model = Sequential([\n",
    "        layers.Input(shape=(sl,), dtype=tf.int32),\n",
    "        layers.Embedding(vocab_size-0, embedding_dim,\n",
    "                         embeddings_initializer=Constant(list(embedding_matrix)),\n",
    "                         #input_length=batch_size, Deprecated?\n",
    "                         trainable=False,\n",
    "                         mask_zero=True,\n",
    "                         name=\"embedding\"),\n",
    "        #layers.GlobalAvgPool1D(),\n",
    "        #layers.Bidirectional(layers.LSTM(512)),\n",
    "       \n",
    "        #layers.Bidirectional(layers.Dense(64)),\n",
    "        layers.Dense(64, activation='relu'),\n",
    "        layers.LSTM(64),\n",
    "        layers.Flatten(),\n",
    "        layers.Dense(1)\n",
    "    ])\n",
    "    # Functional API\n",
    "    #inputs = tf.keras.Input(shape=(sl,), dtype=tf.int32, name=\"tweet\")\n",
    "    #emb    = layers.Embedding(vocab_size-0, embedding_dim,\n",
    "    #                          embeddings_initializer=Constant(list(embedding_matrix)),\n",
    "    #                          #input_length=batch_size, Deprecated?\n",
    "    #                          trainable=True,\n",
    "    #                          mask_zero=True,\n",
    "    #                          name=\"embedding\")\n",
    "    #x = inputs\n",
    "    #x = emb(x)\n",
    "    #x = layers.Dense(512, activation='relu')(x)\n",
    "    #x = layers.Dropout(0.2)(x)\n",
    "    #x = layers.Dense(256, activation='relu')(x)\n",
    "    #x = layers.LSTM(64)(x)\n",
    "    #x = layers.Flatten()(x)\n",
    "    #x = layers.Dense(128, activation='relu')(x)\n",
    "    #outputs = layers.Dense(1, activation='sigmoid')(x)\n",
    "\n",
    "    #model = tf.keras.Model(inputs=inputs, outputs=outputs, name=\"basic_classifier\")\n",
    "\n",
    "    return model\n",
    "\n",
    "#def tweedie_loglikelihood(y, y_hat):\n",
    "#    \"\"\"\n",
    "#    Implements the Tweedie loss function which is better suited to extremely skewed data like ours.\n",
    "#\n",
    "#    From: https://towardsdatascience.com/tweedie-loss-function-for-right-skewed-data-2c5ca470678f\n",
    "#    \"\"\"\n",
    "#    p = 2 # power hyper-parameter\n",
    "#\n",
    "#    loss = - y * tf.pow(y_hat, 1 - p) / (1 - p) + \\\n",
    "#            tf.pow(y_hat, 2 - p) / (2 - p)\n",
    "#    return tf.reduce_mean(loss)\n",
    "\n",
    "def tweedieloss(y_true, y_pred):\n",
    "    \"\"\"\n",
    "    An alternative loss function which should handle datasets with outliers better...\n",
    "    It did not help with our problem.\n",
    "    From: https://datascience.stackexchange.com/a/55393\n",
    "    \"\"\"\n",
    "    p=0.0 #1.5\n",
    "    dev = 2 * (tf.pow(y_true, 2-p)/((1-p) * (2-p)) -\n",
    "                   y_true * tf.pow(y_pred, 1-p)/(1-p) +\n",
    "                   tf.pow(y_pred, 2-p)/(2-p))\n",
    "    return tf.reduce_mean(dev)"
   ]
  },
  {
   "cell_type": "code",
   "execution_count": 35,
   "metadata": {
    "collapsed": false,
    "jupyter": {
     "outputs_hidden": false
    },
    "pycharm": {
     "name": "#%%\n"
    }
   },
   "outputs": [
    {
     "name": "stdout",
     "output_type": "stream",
     "text": [
      "Model: \"sequential_13\"\n",
      "_________________________________________________________________\n",
      "Layer (type)                 Output Shape              Param #   \n",
      "=================================================================\n",
      "embedding (Embedding)        (None, 20, 256)           9301760   \n",
      "_________________________________________________________________\n",
      "dense_26 (Dense)             (None, 20, 64)            16448     \n",
      "_________________________________________________________________\n",
      "lstm_4 (LSTM)                (None, 64)                33024     \n",
      "_________________________________________________________________\n",
      "flatten_8 (Flatten)          (None, 64)                0         \n",
      "_________________________________________________________________\n",
      "dense_27 (Dense)             (None, 1)                 65        \n",
      "=================================================================\n",
      "Total params: 9,351,297\n",
      "Trainable params: 49,537\n",
      "Non-trainable params: 9,301,760\n",
      "_________________________________________________________________\n"
     ]
    },
    {
     "data": {
      "image/png": "[encoded data removed]",
      "text/plain": [
       "<IPython.core.display.Image object>"
      ]
     },
     "execution_count": 35,
     "metadata": {},
     "output_type": "execute_result"
    }
   ],
   "source": [
    "### This model did not work - it predicted constant values for every input!\n",
    "### -> The reason we need to first classify the input and then perform regression depending on its predicted class.\n",
    "\n",
    "#model = Sequential([\n",
    "#    layers.Input(shape=(1,), dtype=tf.string),\n",
    "#    vectorize_layer,\n",
    "#    #layers.Embedding(vocab_size, embedding_dim,\n",
    "#    #                 name=\"embedding\"),\n",
    "#    layers.Embedding(vocab_size-1, embedding_dim,\n",
    "#                     embeddings_initializer=Constant(embedding_vectors),\n",
    "#                     trainable=False,\n",
    "#                     name=\"embedding\"),\n",
    "#    #layers.GlobalAvgPool1D(),\n",
    "#    #layers.Bidirectional(layers.LSTM(512)),\n",
    "#    #layers.LSTM(64),\n",
    "#    #layers.Bidirectional(layers.Dense(64)),\n",
    "#    layers.Dense(64, activation='relu'),\n",
    "#    #layers.Dense(64, activation='relu'),\n",
    "#    layers.Dense(1)\n",
    "#])\n",
    "\n",
    "#model.compile(loss='mean_absolute_error',\n",
    "#              optimizer=tf.keras.optimizers.Adam(0.001))\n",
    "\n",
    "\n",
    "epochs = 20 #100\n",
    "patience = int(epochs * 0.50) #int(epochs * 0.3)\n",
    "learning_rate = 1e-3 #1e-2 * 5 #1e-4 * 5\n",
    "decay_rate = learning_rate / (epochs*epochs)\n",
    "momentum = 0.8\n",
    "\n",
    "# The threshold for deciding whether prediction values are 1 or 0 should be\n",
    "# the value where we have split the data into both bins.\n",
    "#x_split:\n",
    "#threshold = 0.2754579724298949\n",
    "#threshold = 0.3\n",
    "threshold = 0.25553209091655876 # Erdayastronaut\n",
    "#threshold = 0.5\n",
    "\n",
    "#initial_bias = [0.53100804]\n",
    "initial_bias = [2.89037479] # Erdayastronaut\n",
    "\n",
    "\n",
    "model0 = make_basic(sl=sequence_length)\n",
    "model1 = make_basic(sl=sequence_length)\n",
    "\n",
    "# Compute class weights so that the optimizer doesn't get stuck\n",
    "# in a local minimum and both classes are balanced.\n",
    "#labels = np.concatenate([y for x, y in train_dataset], axis=0)\n",
    "#classWeights = compute_class_weight('balanced', np.unique(labels), labels)\n",
    "#classWeights = dict(enumerate(classWeights))\n",
    "\n",
    "loss = tf.keras.losses.MeanAbsoluteError()\n",
    "opt  = tf.keras.optimizers.Adam(learning_rate=learning_rate)\n",
    "\n",
    "model0.compile(loss=loss,\n",
    "               optimizer=opt,\n",
    "               metrics=[]\n",
    "               )\n",
    "model1.compile(loss=loss,\n",
    "               optimizer=opt,\n",
    "               metrics=[]\n",
    "               )\n",
    "\n",
    "model0.summary()\n",
    "tf.keras.utils.plot_model(model1, show_shapes=True, to_file='{}_regressor.png'.format(model1.name))\n",
    "\n",
    "#METRICS = [\n",
    "#    tf.keras.metrics.TruePositives(name='tp'),\n",
    "#    tf.keras.metrics.FalsePositives(name='fp'),\n",
    "#    tf.keras.metrics.TrueNegatives(name='tn'),\n",
    "#    tf.keras.metrics.FalseNegatives(name='fn'),\n",
    "#    tf.keras.metrics.Precision(name='precision'),\n",
    "#    tf.keras.metrics.Recall(name='recall'),\n",
    "#    tf.keras.metrics.AUC(name='auc'),\n",
    "#    tf.keras.metrics.AUC(name='prc', curve='PR'),\n",
    "#    tf.metrics.BinaryAccuracy(threshold=threshold)\n",
    "#]"
   ]
  },
  {
   "cell_type": "code",
   "execution_count": 33,
   "metadata": {
    "collapsed": false,
    "jupyter": {
     "outputs_hidden": false
    },
    "pycharm": {
     "name": "#%%\n"
    }
   },
   "outputs": [
    {
     "data": {
      "text/plain": [
       "array([[ 0.12279627],\n",
       "       [-0.00093571],\n",
       "       [-0.06458184],\n",
       "       ...,\n",
       "       [ 0.09239046],\n",
       "       [ 0.12903163],\n",
       "       [ 0.02818967]], dtype=float32)"
      ]
     },
     "execution_count": 33,
     "metadata": {},
     "output_type": "execute_result"
    }
   ],
   "source": [
    "test_features_1 = test_dataset_1.map(lambda x, y: x)\n",
    "test_labels_1 = test_dataset_1.map(lambda x, y: y)\n",
    "model1.predict(test_features_1)"
   ]
  },
  {
   "cell_type": "code",
   "execution_count": 36,
   "metadata": {
    "collapsed": false,
    "jupyter": {
     "outputs_hidden": false
    },
    "pycharm": {
     "name": "#%%\n"
    }
   },
   "outputs": [
    {
     "name": "stdout",
     "output_type": "stream",
     "text": [
      "Epoch 1/20\n",
      "914/914 [==============================] - 9s 7ms/step - loss: 0.0095 - val_loss: 5.6667e-04\n",
      "\n",
      "Epoch 00001: val_loss improved from inf to 0.00057, saving model to Erdayastronaut/models/regressor0_best.tf\n",
      "Epoch 2/20\n",
      "914/914 [==============================] - 5s 6ms/step - loss: 4.0836e-04 - val_loss: 1.7677e-04\n",
      "\n",
      "Epoch 00002: val_loss improved from 0.00057 to 0.00018, saving model to Erdayastronaut/models/regressor0_best.tf\n",
      "Epoch 3/20\n",
      "914/914 [==============================] - 5s 6ms/step - loss: 3.2574e-04 - val_loss: 9.0521e-05\n",
      "\n",
      "Epoch 00003: val_loss improved from 0.00018 to 0.00009, saving model to Erdayastronaut/models/regressor0_best.tf\n",
      "Epoch 4/20\n",
      "914/914 [==============================] - 5s 6ms/step - loss: 3.7333e-04 - val_loss: 2.6047e-04\n",
      "\n",
      "Epoch 00004: val_loss did not improve from 0.00009\n",
      "Epoch 5/20\n",
      "914/914 [==============================] - 5s 6ms/step - loss: 3.2453e-04 - val_loss: 8.0424e-05\n",
      "\n",
      "Epoch 00005: val_loss improved from 0.00009 to 0.00008, saving model to Erdayastronaut/models/regressor0_best.tf\n",
      "Epoch 6/20\n",
      "914/914 [==============================] - 5s 6ms/step - loss: 2.0000e-04 - val_loss: 2.6795e-04\n",
      "\n",
      "Epoch 00006: val_loss did not improve from 0.00008\n",
      "Epoch 7/20\n",
      "914/914 [==============================] - 5s 6ms/step - loss: 1.8029e-04 - val_loss: 1.0978e-04\n",
      "\n",
      "Epoch 00007: val_loss did not improve from 0.00008\n",
      "Epoch 8/20\n",
      "914/914 [==============================] - 5s 6ms/step - loss: 1.8026e-04 - val_loss: 3.8925e-05\n",
      "\n",
      "Epoch 00008: val_loss improved from 0.00008 to 0.00004, saving model to Erdayastronaut/models/regressor0_best.tf\n",
      "Epoch 9/20\n",
      "914/914 [==============================] - 5s 6ms/step - loss: 1.2055e-04 - val_loss: 4.3296e-05\n",
      "\n",
      "Epoch 00009: val_loss did not improve from 0.00004\n",
      "Epoch 10/20\n",
      "914/914 [==============================] - 6s 6ms/step - loss: 1.2551e-04 - val_loss: 1.4550e-04\n",
      "\n",
      "Epoch 00010: val_loss did not improve from 0.00004\n",
      "Epoch 11/20\n",
      "914/914 [==============================] - 6s 7ms/step - loss: 1.0103e-04 - val_loss: 7.0658e-05\n",
      "\n",
      "Epoch 00011: val_loss did not improve from 0.00004\n",
      "Epoch 12/20\n",
      "914/914 [==============================] - 6s 6ms/step - loss: 9.6833e-05 - val_loss: 4.8008e-05\n",
      "\n",
      "Epoch 00012: val_loss did not improve from 0.00004\n",
      "Epoch 13/20\n",
      "914/914 [==============================] - 5s 6ms/step - loss: 9.6964e-05 - val_loss: 1.5111e-04\n",
      "\n",
      "Epoch 00013: val_loss did not improve from 0.00004\n",
      "Epoch 14/20\n",
      "914/914 [==============================] - 6s 7ms/step - loss: 9.7637e-05 - val_loss: 7.3896e-05\n",
      "\n",
      "Epoch 00014: val_loss did not improve from 0.00004\n",
      "Epoch 15/20\n",
      "914/914 [==============================] - 6s 7ms/step - loss: 9.7282e-05 - val_loss: 4.7829e-05\n",
      "\n",
      "Epoch 00015: val_loss did not improve from 0.00004\n",
      "Epoch 16/20\n",
      "914/914 [==============================] - 6s 7ms/step - loss: 9.6887e-05 - val_loss: 1.5176e-04\n",
      "\n",
      "Epoch 00016: val_loss did not improve from 0.00004\n",
      "Epoch 17/20\n",
      "914/914 [==============================] - 6s 6ms/step - loss: 9.7487e-05 - val_loss: 7.2413e-05\n",
      "\n",
      "Epoch 00017: val_loss did not improve from 0.00004\n",
      "Epoch 18/20\n",
      "914/914 [==============================] - 6s 7ms/step - loss: 9.7188e-05 - val_loss: 4.8190e-05\n",
      "\n",
      "Epoch 00018: val_loss did not improve from 0.00004\n",
      "Epoch 00018: early stopping\n"
     ]
    }
   ],
   "source": [
    "tf.autograph.set_verbosity(0)\n",
    "#logging.getLogger(\"tensorflow\").setLevel(logging.ERROR)\n",
    "early_stopping0 = EarlyStopping(monitor='val_loss', verbose=1, patience=patience)\n",
    "model_checkpoint0 = ModelCheckpoint('{}/models/regressor0_best.tf'.format(handle),\n",
    "                                   monitor='val_loss',\n",
    "                                   #monitor='val_precision', mode='max',\n",
    "                                   save_format='tf',\n",
    "                                   #save_format='h5',\n",
    "                                   save_best_only=True,\n",
    "                                   save_weights_only=True,\n",
    "                                   verbose=1)\n",
    "\n",
    "\n",
    "history0 = model0.fit(\n",
    "    train_dataset_0,\n",
    "    validation_data=val_dataset_0,\n",
    "    #class_weight=classWeights,\n",
    "    callbacks=[early_stopping0, model_checkpoint0],\n",
    "    #steps_per_epoch=steps_per_epoch,\n",
    "    epochs=epochs\n",
    ")"
   ]
  },
  {
   "cell_type": "code",
   "execution_count": 37,
   "metadata": {
    "collapsed": false,
    "jupyter": {
     "outputs_hidden": false
    },
    "pycharm": {
     "name": "#%%\n"
    }
   },
   "outputs": [
    {
     "name": "stdout",
     "output_type": "stream",
     "text": [
      "Epoch 1/20\n",
      "16465/16465 [==============================] - 96s 6ms/step - loss: 0.0722 - val_loss: 0.0703\n",
      "\n",
      "Epoch 00001: val_loss improved from inf to 0.07027, saving model to Erdayastronaut/models/regressor1_best.tf\n",
      "Epoch 2/20\n",
      "16465/16465 [==============================] - 94s 6ms/step - loss: 0.0702 - val_loss: 0.0699\n",
      "\n",
      "Epoch 00002: val_loss improved from 0.07027 to 0.06991, saving model to Erdayastronaut/models/regressor1_best.tf\n",
      "Epoch 3/20\n",
      "16465/16465 [==============================] - 95s 6ms/step - loss: 0.0698 - val_loss: 0.0698\n",
      "\n",
      "Epoch 00003: val_loss improved from 0.06991 to 0.06980, saving model to Erdayastronaut/models/regressor1_best.tf\n",
      "Epoch 4/20\n",
      "16465/16465 [==============================] - 91s 6ms/step - loss: 0.0697 - val_loss: 0.0698\n",
      "\n",
      "Epoch 00004: val_loss improved from 0.06980 to 0.06979, saving model to Erdayastronaut/models/regressor1_best.tf\n",
      "Epoch 5/20\n",
      "16465/16465 [==============================] - 94s 6ms/step - loss: 0.0695 - val_loss: 0.0698\n",
      "\n",
      "Epoch 00005: val_loss did not improve from 0.06979\n",
      "Epoch 6/20\n",
      "16465/16465 [==============================] - 95s 6ms/step - loss: 0.0694 - val_loss: 0.0698\n",
      "\n",
      "Epoch 00006: val_loss did not improve from 0.06979\n",
      "Epoch 7/20\n",
      "16465/16465 [==============================] - 94s 6ms/step - loss: 0.0694 - val_loss: 0.0698\n",
      "\n",
      "Epoch 00007: val_loss did not improve from 0.06979\n",
      "Epoch 8/20\n",
      "16465/16465 [==============================] - 95s 6ms/step - loss: 0.0693 - val_loss: 0.0698\n",
      "\n",
      "Epoch 00008: val_loss did not improve from 0.06979\n",
      "Epoch 9/20\n",
      "16465/16465 [==============================] - 103s 6ms/step - loss: 0.0692 - val_loss: 0.0698\n",
      "\n",
      "Epoch 00009: val_loss improved from 0.06979 to 0.06978, saving model to Erdayastronaut/models/regressor1_best.tf\n",
      "Epoch 10/20\n",
      "16465/16465 [==============================] - 102s 6ms/step - loss: 0.0691 - val_loss: 0.0698\n",
      "\n",
      "Epoch 00010: val_loss did not improve from 0.06978\n",
      "Epoch 11/20\n",
      "16465/16465 [==============================] - 104s 6ms/step - loss: 0.0690 - val_loss: 0.0698\n",
      "\n",
      "Epoch 00011: val_loss did not improve from 0.06978\n",
      "Epoch 12/20\n",
      "16465/16465 [==============================] - 95s 6ms/step - loss: 0.0690 - val_loss: 0.0698\n",
      "\n",
      "Epoch 00012: val_loss did not improve from 0.06978\n",
      "Epoch 13/20\n",
      "16465/16465 [==============================] - 98s 6ms/step - loss: 0.0689 - val_loss: 0.0699\n",
      "\n",
      "Epoch 00013: val_loss did not improve from 0.06978\n",
      "Epoch 14/20\n",
      "16465/16465 [==============================] - 99s 6ms/step - loss: 0.0689 - val_loss: 0.0699\n",
      "\n",
      "Epoch 00014: val_loss did not improve from 0.06978\n",
      "Epoch 15/20\n",
      "16465/16465 [==============================] - 144s 9ms/step - loss: 0.0688 - val_loss: 0.0700\n",
      "\n",
      "Epoch 00015: val_loss did not improve from 0.06978\n",
      "Epoch 16/20\n",
      "16465/16465 [==============================] - 241s 15ms/step - loss: 0.0687 - val_loss: 0.0700\n",
      "\n",
      "Epoch 00016: val_loss did not improve from 0.06978\n",
      "Epoch 17/20\n",
      "16465/16465 [==============================] - 102s 6ms/step - loss: 0.0687 - val_loss: 0.0702\n",
      "\n",
      "Epoch 00017: val_loss did not improve from 0.06978\n",
      "Epoch 18/20\n",
      "16465/16465 [==============================] - 100s 6ms/step - loss: 0.0686 - val_loss: 0.0702\n",
      "\n",
      "Epoch 00018: val_loss did not improve from 0.06978\n",
      "Epoch 19/20\n",
      "16465/16465 [==============================] - 103s 6ms/step - loss: 0.0685 - val_loss: 0.0702\n",
      "\n",
      "Epoch 00019: val_loss did not improve from 0.06978\n",
      "Epoch 00019: early stopping\n"
     ]
    }
   ],
   "source": [
    "early_stopping1 = EarlyStopping(monitor='val_loss', verbose=1, patience=patience)\n",
    "model_checkpoint1 = ModelCheckpoint('{}/models/regressor1_best.tf'.format(handle),\n",
    "                                   monitor='val_loss',\n",
    "                                   #monitor='val_precision', mode='max',\n",
    "                                   save_format='tf',\n",
    "                                   #save_format='h5',\n",
    "                                   save_best_only=True,\n",
    "                                   save_weights_only=True,\n",
    "                                   verbose=1)\n",
    "history1 = model1.fit(\n",
    "    train_dataset_1,\n",
    "    validation_data=val_dataset_1,\n",
    "    callbacks=[early_stopping1, model_checkpoint1],\n",
    "    epochs=epochs\n",
    ")"
   ]
  },
  {
   "cell_type": "code",
   "execution_count": null,
   "metadata": {
    "collapsed": false,
    "jupyter": {
     "outputs_hidden": false
    },
    "pycharm": {
     "name": "#%%\n"
    }
   },
   "outputs": [],
   "source": [
    "#saved_model = load_model('{}/models/classificator_best.tf'.format(handle))\n",
    "#\n",
    "#_, train_acc = saved_model.evaluate(train_dataset, verbose=1)\n",
    "#_, test_acc  = saved_model.evaluate(test_dataset, verbose=1)\n",
    "#\n",
    "#print('Train Accuracy: %.3f, Test Accuracy: %.3f' % (train_acc, test_acc))"
   ]
  },
  {
   "cell_type": "code",
   "execution_count": 47,
   "metadata": {
    "collapsed": false,
    "jupyter": {
     "outputs_hidden": false
    },
    "pycharm": {
     "name": "#%%\n"
    }
   },
   "outputs": [
    {
     "name": "stdout",
     "output_type": "stream",
     "text": [
      "Loss (Model0):\n"
     ]
    },
    {
     "data": {
      "image/png": "[encoded data removed]",
      "text/plain": [
       "<Figure size 432x288 with 1 Axes>"
      ]
     },
     "metadata": {
      "needs_background": "light"
     },
     "output_type": "display_data"
    }
   ],
   "source": [
    "def plot_loss(hist, xlim=0.0, ylim=.3):\n",
    "    plt.plot(hist.history['loss'], label='loss')\n",
    "    plt.plot(hist.history['val_loss'], label='val_loss')\n",
    "    plt.ylim([xlim, ylim])\n",
    "    plt.xlabel=('Epoch')\n",
    "    plt.ylabel=('Error')\n",
    "    plt.legend()\n",
    "    plt.grid(True)\n",
    "\n",
    "print(\"Loss (Model0):\")\n",
    "plot_loss(history0, ylim=.005)\n"
   ]
  },
  {
   "cell_type": "code",
   "execution_count": 49,
   "metadata": {},
   "outputs": [
    {
     "name": "stdout",
     "output_type": "stream",
     "text": [
      "Loss (Model1):\n"
     ]
    },
    {
     "data": {
      "image/png": "[encoded data removed]",
      "text/plain": [
       "<Figure size 432x288 with 1 Axes>"
      ]
     },
     "metadata": {
      "needs_background": "light"
     },
     "output_type": "display_data"
    }
   ],
   "source": [
    "print(\"Loss (Model1):\")\n",
    "plot_loss(history1, xlim=.06, ylim=.08)"
   ]
  },
  {
   "cell_type": "markdown",
   "metadata": {},
   "source": [
    "# Evaluate the regressors"
   ]
  },
  {
   "cell_type": "code",
   "execution_count": null,
   "metadata": {
    "collapsed": false,
    "jupyter": {
     "outputs_hidden": false
    },
    "pycharm": {
     "name": "#%%\n"
    }
   },
   "outputs": [],
   "source": [
    "for feature_batch, label in test_dataset_1.take(1):\n",
    "    for key, value in feature_batch.items():\n",
    "        print(f\"{key:20s}: {value}\")\n",
    "    print()\n",
    "    print(f\"{'label':20s}: {label}\")"
   ]
  },
  {
   "cell_type": "code",
   "execution_count": 55,
   "metadata": {
    "collapsed": false,
    "jupyter": {
     "outputs_hidden": false
    },
    "pycharm": {
     "name": "#%%\n"
    }
   },
   "outputs": [
    {
     "name": "stdout",
     "output_type": "stream",
     "text": [
      "114/114 [==============================] - 0s 2ms/step - loss: 4.8192e-05\n",
      "4.819161767954938e-05\n",
      "2060/2060 [==============================] - 5s 2ms/step - loss: 0.0703\n",
      "Some labels and their predicted counterparts for regressor0:\n",
      "        0\n",
      "0     0.0\n",
      "1     0.0\n",
      "2     0.0\n",
      "3     0.0\n",
      "4     0.0\n",
      "...   ...\n",
      "3619  0.0\n",
      "3620  0.0\n",
      "3621  0.0\n",
      "3622  0.0\n",
      "3623  0.0\n",
      "\n",
      "[3624 rows x 1 columns]\n",
      "[[-4.8230537e-05]\n",
      " [-4.8230537e-05]\n",
      " [-4.8230479e-05]\n",
      " ...\n",
      " [-4.8227266e-05]\n",
      " [-4.8006448e-05]\n",
      " [-4.8225185e-05]]\n",
      "Some labels and their predicted counterparts for regressor1:\n",
      "              0\n",
      "0      0.366164\n",
      "1      0.467537\n",
      "2      0.439159\n",
      "3      0.425949\n",
      "4      0.722285\n",
      "...         ...\n",
      "65884  0.366164\n",
      "65885  0.428204\n",
      "65886  0.496095\n",
      "65887  0.590837\n",
      "65888  0.431289\n",
      "\n",
      "[65889 rows x 1 columns]\n",
      "[[0.5012801 ]\n",
      " [0.5077152 ]\n",
      " [0.5307238 ]\n",
      " ...\n",
      " [0.5040657 ]\n",
      " [0.5172543 ]\n",
      " [0.50625914]]\n"
     ]
    },
    {
     "data": {
      "image/png": "[encoded data removed]",
      "text/plain": [
       "<Figure size 432x288 with 1 Axes>"
      ]
     },
     "metadata": {
      "needs_background": "light"
     },
     "output_type": "display_data"
    }
   ],
   "source": [
    "from imp import reload\n",
    "reload(plt)\n",
    "\n",
    "history0_dict = history0.history\n",
    "history1_dict = history1.history\n",
    "\n",
    "test_results_0 = model0.evaluate(\n",
    "    test_dataset_0\n",
    ")\n",
    "print(test_results_0)\n",
    "\n",
    "test_results_1 = model1.evaluate(\n",
    "    test_dataset_1\n",
    ")\n",
    "\n",
    "test_features_0 = test_dataset_0.map(lambda x, y: x)\n",
    "test_labels_0 = test_dataset_0.map(lambda x, y: y)\n",
    "test_predictions_0 = model0.predict(test_features_0)\n",
    "\n",
    "test_features_1 = test_dataset_1.map(lambda x, y: x)\n",
    "test_labels_1 = test_dataset_1.map(lambda x, y: y)\n",
    "test_predictions_1 = model1.predict(test_features_1)\n",
    "\n",
    "#print(test_labels)\n",
    "\n",
    "# Show some predicted values\n",
    "print(\"Some labels and their predicted counterparts for regressor0:\")\n",
    "ex0 = test_labels_0.unbatch()\n",
    "ex0 = pd.DataFrame(ex0)\n",
    "print(ex0)\n",
    "print(test_predictions_0)\n",
    "\n",
    "print(\"Some labels and their predicted counterparts for regressor1:\")\n",
    "ex1 = test_labels_1.unbatch()\n",
    "ex1 = pd.DataFrame(ex1)\n",
    "print(ex1)\n",
    "print(test_predictions_1)\n",
    "\n",
    "# Get predictions on the train/test data\n",
    "train_features_0 = train_dataset_0.map(lambda x, y: x)\n",
    "train_labels_0 = train_dataset_0.map(lambda x, y: y)\n",
    "ex2 = train_labels_0.unbatch()\n",
    "ex2 = pd.DataFrame(ex0)\n",
    "train_predictions_0 = model0.predict(train_features_0)\n",
    "\n",
    "train_features_1 = train_dataset_1.map(lambda x, y: x)\n",
    "train_labels_1 = train_dataset_1.map(lambda x, y: y)\n",
    "ex3 = train_labels_1.unbatch()\n",
    "ex3 = pd.DataFrame(ex1)\n",
    "train_predictions_1 = model1.predict(train_features_1)\n",
    "\n",
    "\n",
    "a = plt.axes(aspect='equal')\n",
    "plt.scatter(ex0, test_predictions_0)\n",
    "plt.xlabel('True Values (bin 0)')\n",
    "plt.ylabel('Predictions (bin 0)')\n",
    "lims = [0, 1]\n",
    "plt.xlim(lims)\n",
    "plt.ylim(lims)\n",
    "_ = plt.plot(lims, lims)"
   ]
  },
  {
   "cell_type": "code",
   "execution_count": 56,
   "metadata": {},
   "outputs": [
    {
     "data": {
      "image/png": "[encoded data removed]",
      "text/plain": [
       "<Figure size 432x288 with 1 Axes>"
      ]
     },
     "metadata": {
      "needs_background": "light"
     },
     "output_type": "display_data"
    }
   ],
   "source": [
    "reload(plt)\n",
    "\n",
    "a = plt.axes(aspect='equal')\n",
    "plt.scatter(ex1, test_predictions_1)\n",
    "plt.xlabel('True Values (bin 1)')\n",
    "plt.ylabel('Predictions (bin 1)')\n",
    "lims = [0, 1]\n",
    "plt.xlim(lims)\n",
    "plt.ylim(lims)\n",
    "_ = plt.plot(lims, lims)"
   ]
  }
 ],
 "metadata": {
  "kernelspec": {
   "display_name": "Python 3",
   "language": "python",
   "name": "python3"
  },
  "language_info": {
   "codemirror_mode": {
    "name": "ipython",
    "version": 3
   },
   "file_extension": ".py",
   "mimetype": "text/x-python",
   "name": "python",
   "nbconvert_exporter": "python",
   "pygments_lexer": "ipython3",
   "version": "3.9.4"
  }
 },
 "nbformat": 4,
 "nbformat_minor": 4
}