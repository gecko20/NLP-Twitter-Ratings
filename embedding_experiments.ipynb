{
 "cells": [
  {
   "cell_type": "code",
   "execution_count": 1,
   "id": "e39946ee-58f1-4729-b449-e6872510abc4",
   "metadata": {},
   "outputs": [],
   "source": [
    "#import tweepy\n",
    "#import twint\n",
    "#import nltk\n",
    "#from nltk.corpus import stopwords\n",
    "#from nltk.stem import PorterStemmer\n",
    "#from nltk.stem import Cistem\n",
    "#from nltk.stem.snowball import GermanStemmer\n",
    "#from nltk.tokenize import TweetTokenizer\n",
    "#import re\n",
    "#import regex as re\n",
    "#import emoji\n",
    "#import datetime\n",
    "#import glob\n",
    "import gensim as gs\n",
    "import logging\n",
    "\n",
    "import io\n",
    "import os\n",
    "import random\n",
    "import string\n",
    "#import unicodedata\n",
    "#import time\n",
    "import sys\n",
    "import pandas as pd\n",
    "import numpy as np\n",
    "#import matplotlib.pyplot as plt\n",
    "#from wordcloud import WordCloud\n",
    "#import seaborn as sns\n",
    "#from pprint import pprint\n",
    "\n",
    "#import tensorflow as tf\n",
    "#import tensorflow_datasets as tfds\n",
    "#from tensorflow.keras import Model\n",
    "#from tensorflow.keras import Sequential\n",
    "#from tensorflow.keras.initializers import Constant\n",
    "#from tensorflow.keras.layers.experimental.preprocessing import TextVectorization\n",
    "#from tensorflow.keras import layers\n",
    "\n",
    "#import tqdm\n",
    "\n",
    "# Workaround for Jupyter's \"This event loop is already running\" exception\n",
    "import nest_asyncio\n",
    "nest_asyncio.apply()"
   ]
  },
  {
   "cell_type": "code",
   "execution_count": 2,
   "id": "eafb9822-3dbb-4b72-b155-6b364bf219c4",
   "metadata": {},
   "outputs": [
    {
     "name": "stdout",
     "output_type": "stream",
     "text": [
      "1.20.2\n"
     ]
    }
   ],
   "source": [
    "# Check for GPU availability\n",
    "#if tf.test.gpu_device_name():\n",
    "#    print(tf.test.gpu_device_name())\n",
    "#    print(\"GPU available.\")\n",
    "#else:\n",
    "#    print(\"GPU not available.\")\n",
    "    \n",
    "# Print numpy version\n",
    "print(np.__version__) # Gensim needs a numpy version of >1.20 to work. Therefore we need two different environments..."
   ]
  },
  {
   "cell_type": "code",
   "execution_count": 3,
   "id": "7b0b0ce7-19f0-41f8-b261-9238c9413d0f",
   "metadata": {},
   "outputs": [
    {
     "data": {
      "text/html": [
       "<div>\n",
       "<style scoped>\n",
       "    .dataframe tbody tr th:only-of-type {\n",
       "        vertical-align: middle;\n",
       "    }\n",
       "\n",
       "    .dataframe tbody tr th {\n",
       "        vertical-align: top;\n",
       "    }\n",
       "\n",
       "    .dataframe thead th {\n",
       "        text-align: right;\n",
       "    }\n",
       "</style>\n",
       "<table border=\"1\" class=\"dataframe\">\n",
       "  <thead>\n",
       "    <tr style=\"text-align: right;\">\n",
       "      <th></th>\n",
       "      <th>bin</th>\n",
       "      <th>rating</th>\n",
       "      <th>tweet</th>\n",
       "    </tr>\n",
       "  </thead>\n",
       "  <tbody>\n",
       "    <tr>\n",
       "      <th>0</th>\n",
       "      <td>1</td>\n",
       "      <td>0.528947</td>\n",
       "      <td>starship upda liv</td>\n",
       "    </tr>\n",
       "    <tr>\n",
       "      <th>1</th>\n",
       "      <td>1</td>\n",
       "      <td>0.593039</td>\n",
       "      <td>forbidd molossia spinach tobacco torpedo playi...</td>\n",
       "    </tr>\n",
       "    <tr>\n",
       "      <th>2</th>\n",
       "      <td>1</td>\n",
       "      <td>0.512920</td>\n",
       "      <td>week wild bou</td>\n",
       "    </tr>\n",
       "    <tr>\n",
       "      <th>3</th>\n",
       "      <td>1</td>\n",
       "      <td>0.615915</td>\n",
       "      <td>running 4th halfway poi rac cautio lap 43 pitt...</td>\n",
       "    </tr>\n",
       "    <tr>\n",
       "      <th>4</th>\n",
       "      <td>0</td>\n",
       "      <td>0.000000</td>\n",
       "      <td>emily chai percy awesom wan lear wai new image...</td>\n",
       "    </tr>\n",
       "  </tbody>\n",
       "</table>\n",
       "</div>"
      ],
      "text/plain": [
       "   bin    rating                                              tweet\n",
       "0    1  0.528947                                  starship upda liv\n",
       "1    1  0.593039  forbidd molossia spinach tobacco torpedo playi...\n",
       "2    1  0.512920                                      week wild bou\n",
       "3    1  0.615915  running 4th halfway poi rac cautio lap 43 pitt...\n",
       "4    0  0.000000  emily chai percy awesom wan lear wai new image..."
      ]
     },
     "execution_count": 3,
     "metadata": {},
     "output_type": "execute_result"
    }
   ],
   "source": [
    "#handle=\"FiatPecunia\"\n",
    "handle=\"Erdayastronaut\"\n",
    "# Read the tweets dataset\n",
    "#df = pd.read_csv('{}/preproc/tweets.csv'.format(handle))\n",
    "# Train the embedding only on the training data set in order to prevent leaks to the validation and test sets\n",
    "df = pd.read_csv('{}/preproc/train.csv'.format(handle))\n",
    "#df = df['tweet']\n",
    "df.head()"
   ]
  },
  {
   "cell_type": "code",
   "execution_count": 4,
   "id": "1978a6df-5899-48cb-b75d-4f39218436ed",
   "metadata": {},
   "outputs": [
    {
     "name": "stdout",
     "output_type": "stream",
     "text": [
      "['starship', 'upda', 'liv']\n"
     ]
    }
   ],
   "source": [
    "# Gensim needs an iterator yielding a list of tokens for each tweet.\n",
    "\n",
    "for index, row in df.iterrows():\n",
    "    print(row['tweet'].split())\n",
    "    break"
   ]
  },
  {
   "cell_type": "code",
   "execution_count": 5,
   "id": "10846595-7f7c-40fd-b190-e96eb062f45d",
   "metadata": {},
   "outputs": [],
   "source": [
    "class Corpus:\n",
    "    \"\"\" path must point to a CSV file with columns: rating,tweet,photos,replies_count,retweets_count,likes_count,hashtags,cashtags,video \"\"\"\n",
    "    def __init__(self, path):\n",
    "        #self.df = pd.read_csv(path,\n",
    "        #             encoding='utf-8',\n",
    "        #             dtype={'rating': float,\n",
    "        #                    'tweet': 'string',\n",
    "        #                    'photos': 'bool',\n",
    "        #                    'replies_count': int,\n",
    "        #                    'retweets_count': int,\n",
    "        #                    'likes_count': int,\n",
    "        #                    'hashtags': object,\n",
    "        #                    'cashtags': object,\n",
    "        #                    'video': int})\n",
    "        self.df = pd.read_csv(path,\n",
    "                     encoding='utf-8',\n",
    "                     dtype={'rating': float,\n",
    "                            'tweet': 'string',\n",
    "                            'photos': 'bool',\n",
    "                            'replies_count': float,\n",
    "                            'retweets_count': float,\n",
    "                            'likes_count': float,\n",
    "                            'hashtags': object,\n",
    "                            'cashtags': object,\n",
    "                            'video': int})\n",
    "        \n",
    "        #print(self.df.loc[self.df['tweet'].isnull()])\n",
    "        # Remove empty tweets\n",
    "        self.df = self.df.dropna(subset=['tweet'])\n",
    "    \n",
    "    def __iter__(self):\n",
    "        for index, row in self.df.iterrows():\n",
    "            yield row['tweet'].split()"
   ]
  },
  {
   "cell_type": "code",
   "execution_count": 7,
   "id": "11f8d479-dc05-4077-970f-1ba0e70d4b1b",
   "metadata": {},
   "outputs": [
    {
     "name": "stderr",
     "output_type": "stream",
     "text": [
      "2021-08-14 01:47:38,491 : INFO : collecting all words and their counts\n",
      "2021-08-14 01:47:38,522 : INFO : PROGRESS: at sentence #0, processed 0 words, keeping 0 word types\n",
      "2021-08-14 01:47:39,175 : INFO : PROGRESS: at sentence #10000, processed 109717 words, keeping 17102 word types\n",
      "2021-08-14 01:47:39,818 : INFO : PROGRESS: at sentence #20000, processed 220636 words, keeping 25178 word types\n",
      "2021-08-14 01:47:40,464 : INFO : PROGRESS: at sentence #30000, processed 331159 words, keeping 31538 word types\n",
      "2021-08-14 01:47:41,131 : INFO : PROGRESS: at sentence #40000, processed 442251 words, keeping 37042 word types\n",
      "2021-08-14 01:47:41,816 : INFO : PROGRESS: at sentence #50000, processed 551985 words, keeping 41946 word types\n",
      "2021-08-14 01:47:42,614 : INFO : PROGRESS: at sentence #60000, processed 661649 words, keeping 46443 word types\n",
      "2021-08-14 01:47:43,417 : INFO : PROGRESS: at sentence #70000, processed 772103 words, keeping 50577 word types\n",
      "2021-08-14 01:47:44,078 : INFO : PROGRESS: at sentence #80000, processed 881538 words, keeping 54363 word types\n",
      "2021-08-14 01:47:44,764 : INFO : PROGRESS: at sentence #90000, processed 992034 words, keeping 58066 word types\n",
      "2021-08-14 01:47:45,426 : INFO : PROGRESS: at sentence #100000, processed 1102947 words, keeping 61663 word types\n",
      "2021-08-14 01:47:46,076 : INFO : PROGRESS: at sentence #110000, processed 1214488 words, keeping 64974 word types\n",
      "2021-08-14 01:47:46,782 : INFO : PROGRESS: at sentence #120000, processed 1325311 words, keeping 68282 word types\n",
      "2021-08-14 01:47:47,433 : INFO : PROGRESS: at sentence #130000, processed 1435752 words, keeping 71303 word types\n",
      "2021-08-14 01:47:48,084 : INFO : PROGRESS: at sentence #140000, processed 1545176 words, keeping 74282 word types\n",
      "2021-08-14 01:47:48,740 : INFO : PROGRESS: at sentence #150000, processed 1655973 words, keeping 77156 word types\n",
      "2021-08-14 01:47:49,388 : INFO : PROGRESS: at sentence #160000, processed 1766944 words, keeping 80030 word types\n",
      "2021-08-14 01:47:50,048 : INFO : PROGRESS: at sentence #170000, processed 1877724 words, keeping 82788 word types\n",
      "2021-08-14 01:47:50,721 : INFO : PROGRESS: at sentence #180000, processed 1987576 words, keeping 85471 word types\n",
      "2021-08-14 01:47:51,484 : INFO : PROGRESS: at sentence #190000, processed 2098092 words, keeping 88191 word types\n",
      "2021-08-14 01:47:52,188 : INFO : PROGRESS: at sentence #200000, processed 2207643 words, keeping 90811 word types\n",
      "2021-08-14 01:47:52,861 : INFO : PROGRESS: at sentence #210000, processed 2317973 words, keeping 93367 word types\n",
      "2021-08-14 01:47:53,521 : INFO : PROGRESS: at sentence #220000, processed 2428619 words, keeping 95919 word types\n",
      "2021-08-14 01:47:54,185 : INFO : PROGRESS: at sentence #230000, processed 2539486 words, keeping 98267 word types\n",
      "2021-08-14 01:47:54,845 : INFO : PROGRESS: at sentence #240000, processed 2649534 words, keeping 100635 word types\n",
      "2021-08-14 01:47:55,502 : INFO : PROGRESS: at sentence #250000, processed 2759735 words, keeping 102936 word types\n",
      "2021-08-14 01:47:56,180 : INFO : PROGRESS: at sentence #260000, processed 2869984 words, keeping 105225 word types\n",
      "2021-08-14 01:47:56,839 : INFO : PROGRESS: at sentence #270000, processed 2979511 words, keeping 107440 word types\n",
      "2021-08-14 01:47:57,494 : INFO : PROGRESS: at sentence #280000, processed 3089257 words, keeping 109639 word types\n",
      "2021-08-14 01:47:58,157 : INFO : PROGRESS: at sentence #290000, processed 3198701 words, keeping 111899 word types\n",
      "2021-08-14 01:47:58,815 : INFO : PROGRESS: at sentence #300000, processed 3309515 words, keeping 114088 word types\n",
      "2021-08-14 01:47:59,470 : INFO : PROGRESS: at sentence #310000, processed 3420530 words, keeping 116219 word types\n",
      "2021-08-14 01:48:00,136 : INFO : PROGRESS: at sentence #320000, processed 3530038 words, keeping 118345 word types\n",
      "2021-08-14 01:48:00,820 : INFO : PROGRESS: at sentence #330000, processed 3641207 words, keeping 120449 word types\n",
      "2021-08-14 01:48:01,458 : INFO : PROGRESS: at sentence #340000, processed 3750879 words, keeping 122440 word types\n",
      "2021-08-14 01:48:02,099 : INFO : PROGRESS: at sentence #350000, processed 3861408 words, keeping 124522 word types\n",
      "2021-08-14 01:48:02,742 : INFO : PROGRESS: at sentence #360000, processed 3971221 words, keeping 126555 word types\n",
      "2021-08-14 01:48:03,398 : INFO : PROGRESS: at sentence #370000, processed 4081174 words, keeping 128520 word types\n",
      "2021-08-14 01:48:04,043 : INFO : PROGRESS: at sentence #380000, processed 4191507 words, keeping 130442 word types\n",
      "2021-08-14 01:48:04,684 : INFO : PROGRESS: at sentence #390000, processed 4301734 words, keeping 132464 word types\n",
      "2021-08-14 01:48:05,344 : INFO : PROGRESS: at sentence #400000, processed 4412861 words, keeping 134495 word types\n",
      "2021-08-14 01:48:06,013 : INFO : PROGRESS: at sentence #410000, processed 4521928 words, keeping 136297 word types\n",
      "2021-08-14 01:48:06,651 : INFO : PROGRESS: at sentence #420000, processed 4631135 words, keeping 138222 word types\n",
      "2021-08-14 01:48:07,289 : INFO : PROGRESS: at sentence #430000, processed 4740811 words, keeping 140069 word types\n",
      "2021-08-14 01:48:07,928 : INFO : PROGRESS: at sentence #440000, processed 4850936 words, keeping 141883 word types\n",
      "2021-08-14 01:48:08,571 : INFO : PROGRESS: at sentence #450000, processed 4960926 words, keeping 143729 word types\n",
      "2021-08-14 01:48:09,228 : INFO : PROGRESS: at sentence #460000, processed 5069958 words, keeping 145470 word types\n",
      "2021-08-14 01:48:09,939 : INFO : PROGRESS: at sentence #470000, processed 5180627 words, keeping 147284 word types\n",
      "2021-08-14 01:48:10,633 : INFO : PROGRESS: at sentence #480000, processed 5290465 words, keeping 149059 word types\n",
      "2021-08-14 01:48:11,325 : INFO : PROGRESS: at sentence #490000, processed 5400535 words, keeping 150832 word types\n",
      "2021-08-14 01:48:12,002 : INFO : PROGRESS: at sentence #500000, processed 5509309 words, keeping 152595 word types\n",
      "2021-08-14 01:48:12,713 : INFO : PROGRESS: at sentence #510000, processed 5618947 words, keeping 154357 word types\n",
      "2021-08-14 01:48:13,381 : INFO : PROGRESS: at sentence #520000, processed 5729947 words, keeping 156141 word types\n",
      "2021-08-14 01:48:14,039 : INFO : PROGRESS: at sentence #530000, processed 5840813 words, keeping 157941 word types\n",
      "2021-08-14 01:48:14,691 : INFO : PROGRESS: at sentence #540000, processed 5950814 words, keeping 159590 word types\n",
      "2021-08-14 01:48:15,342 : INFO : PROGRESS: at sentence #550000, processed 6061343 words, keeping 161278 word types\n",
      "2021-08-14 01:48:15,674 : INFO : collected 162116 word types from a corpus of 6115112 raw words and 554882 sentences\n",
      "2021-08-14 01:48:15,674 : INFO : Creating a fresh vocabulary\n",
      "2021-08-14 01:48:15,830 : INFO : Word2Vec lifecycle event {'msg': 'effective_min_count=5 retains 36333 unique words (22.41172987243702%% of original 162116, drops 125783)', 'datetime': '2021-08-14T01:48:15.806534', 'gensim': '4.0.1', 'python': '3.9.5 (default, Jun  4 2021, 12:28:51) \\n[GCC 7.5.0]', 'platform': 'Linux-5.4.97-gentoo-x86_64-Intel-R-_Core-TM-_i7-4770K_CPU_@_3.50GHz-with-glibc2.33', 'event': 'prepare_vocab'}\n",
      "2021-08-14 01:48:15,831 : INFO : Word2Vec lifecycle event {'msg': 'effective_min_count=5 leaves 5935621 word corpus (97.0647961967009%% of original 6115112, drops 179491)', 'datetime': '2021-08-14T01:48:15.831936', 'gensim': '4.0.1', 'python': '3.9.5 (default, Jun  4 2021, 12:28:51) \\n[GCC 7.5.0]', 'platform': 'Linux-5.4.97-gentoo-x86_64-Intel-R-_Core-TM-_i7-4770K_CPU_@_3.50GHz-with-glibc2.33', 'event': 'prepare_vocab'}\n",
      "2021-08-14 01:48:15,992 : INFO : deleting the raw counts dictionary of 162116 items\n",
      "2021-08-14 01:48:15,996 : INFO : sample=0.001 downsamples 25 most-common words\n",
      "2021-08-14 01:48:15,996 : INFO : Word2Vec lifecycle event {'msg': 'downsampling leaves estimated 5736220.7283854075 word corpus (96.6%% of prior 5935621)', 'datetime': '2021-08-14T01:48:15.996432', 'gensim': '4.0.1', 'python': '3.9.5 (default, Jun  4 2021, 12:28:51) \\n[GCC 7.5.0]', 'platform': 'Linux-5.4.97-gentoo-x86_64-Intel-R-_Core-TM-_i7-4770K_CPU_@_3.50GHz-with-glibc2.33', 'event': 'prepare_vocab'}\n",
      "2021-08-14 01:48:16,257 : INFO : estimated required memory for 36333 words and 256 dimensions: 92576484 bytes\n",
      "2021-08-14 01:48:16,258 : INFO : resetting layer weights\n",
      "2021-08-14 01:48:16,304 : INFO : Word2Vec lifecycle event {'update': False, 'trim_rule': 'None', 'datetime': '2021-08-14T01:48:16.304863', 'gensim': '4.0.1', 'python': '3.9.5 (default, Jun  4 2021, 12:28:51) \\n[GCC 7.5.0]', 'platform': 'Linux-5.4.97-gentoo-x86_64-Intel-R-_Core-TM-_i7-4770K_CPU_@_3.50GHz-with-glibc2.33', 'event': 'build_vocab'}\n",
      "2021-08-14 01:48:16,305 : INFO : Word2Vec lifecycle event {'msg': 'training model with 8 workers on 36333 vocabulary and 256 features, using sg=1 hs=0 sample=0.001 negative=5 window=5', 'datetime': '2021-08-14T01:48:16.305743', 'gensim': '4.0.1', 'python': '3.9.5 (default, Jun  4 2021, 12:28:51) \\n[GCC 7.5.0]', 'platform': 'Linux-5.4.97-gentoo-x86_64-Intel-R-_Core-TM-_i7-4770K_CPU_@_3.50GHz-with-glibc2.33', 'event': 'train'}\n",
      "2021-08-14 01:48:17,366 : INFO : EPOCH 1 - PROGRESS: at 2.29% examples, 124193 words/s, in_qsize 0, out_qsize 0\n",
      "2021-08-14 01:48:18,413 : INFO : EPOCH 1 - PROGRESS: at 4.73% examples, 129212 words/s, in_qsize 0, out_qsize 0\n",
      "2021-08-14 01:48:19,453 : INFO : EPOCH 1 - PROGRESS: at 7.33% examples, 134140 words/s, in_qsize 0, out_qsize 0\n",
      "2021-08-14 01:48:20,469 : INFO : EPOCH 1 - PROGRESS: at 9.96% examples, 137386 words/s, in_qsize 0, out_qsize 0\n",
      "2021-08-14 01:48:21,478 : INFO : EPOCH 1 - PROGRESS: at 12.57% examples, 139601 words/s, in_qsize 0, out_qsize 0\n",
      "2021-08-14 01:48:22,499 : INFO : EPOCH 1 - PROGRESS: at 15.04% examples, 139333 words/s, in_qsize 0, out_qsize 0\n",
      "2021-08-14 01:48:23,525 : INFO : EPOCH 1 - PROGRESS: at 17.80% examples, 141599 words/s, in_qsize 0, out_qsize 0\n",
      "2021-08-14 01:48:24,591 : INFO : EPOCH 1 - PROGRESS: at 20.39% examples, 141498 words/s, in_qsize 0, out_qsize 0\n",
      "2021-08-14 01:48:25,610 : INFO : EPOCH 1 - PROGRESS: at 23.00% examples, 142102 words/s, in_qsize 0, out_qsize 0\n",
      "2021-08-14 01:48:26,617 : INFO : EPOCH 1 - PROGRESS: at 25.62% examples, 142776 words/s, in_qsize 0, out_qsize 0\n",
      "2021-08-14 01:48:27,676 : INFO : EPOCH 1 - PROGRESS: at 28.37% examples, 143480 words/s, in_qsize 0, out_qsize 0\n",
      "2021-08-14 01:48:28,695 : INFO : EPOCH 1 - PROGRESS: at 30.99% examples, 143799 words/s, in_qsize 0, out_qsize 0\n",
      "2021-08-14 01:48:29,748 : INFO : EPOCH 1 - PROGRESS: at 33.60% examples, 143684 words/s, in_qsize 0, out_qsize 0\n",
      "2021-08-14 01:48:30,800 : INFO : EPOCH 1 - PROGRESS: at 36.23% examples, 143595 words/s, in_qsize 0, out_qsize 0\n",
      "2021-08-14 01:48:31,812 : INFO : EPOCH 1 - PROGRESS: at 38.83% examples, 143887 words/s, in_qsize 0, out_qsize 0\n",
      "2021-08-14 01:48:32,830 : INFO : EPOCH 1 - PROGRESS: at 41.27% examples, 143544 words/s, in_qsize 0, out_qsize 0\n",
      "2021-08-14 01:48:33,863 : INFO : EPOCH 1 - PROGRESS: at 43.89% examples, 143644 words/s, in_qsize 0, out_qsize 0\n",
      "2021-08-14 01:48:34,913 : INFO : EPOCH 1 - PROGRESS: at 46.65% examples, 144107 words/s, in_qsize 0, out_qsize 0\n",
      "2021-08-14 01:48:35,953 : INFO : EPOCH 1 - PROGRESS: at 49.29% examples, 144124 words/s, in_qsize 0, out_qsize 0\n",
      "2021-08-14 01:48:36,986 : INFO : EPOCH 1 - PROGRESS: at 51.92% examples, 144166 words/s, in_qsize 0, out_qsize 0\n",
      "2021-08-14 01:48:38,033 : INFO : EPOCH 1 - PROGRESS: at 54.53% examples, 144121 words/s, in_qsize 0, out_qsize 0\n",
      "2021-08-14 01:48:39,074 : INFO : EPOCH 1 - PROGRESS: at 57.14% examples, 144118 words/s, in_qsize 0, out_qsize 0\n",
      "2021-08-14 01:48:40,119 : INFO : EPOCH 1 - PROGRESS: at 59.74% examples, 144096 words/s, in_qsize 0, out_qsize 0\n",
      "2021-08-14 01:48:41,129 : INFO : EPOCH 1 - PROGRESS: at 62.20% examples, 143904 words/s, in_qsize 0, out_qsize 0\n",
      "2021-08-14 01:48:42,132 : INFO : EPOCH 1 - PROGRESS: at 64.64% examples, 143756 words/s, in_qsize 0, out_qsize 0\n",
      "2021-08-14 01:48:43,178 : INFO : EPOCH 1 - PROGRESS: at 67.26% examples, 143746 words/s, in_qsize 0, out_qsize 0\n",
      "2021-08-14 01:48:44,209 : INFO : EPOCH 1 - PROGRESS: at 69.88% examples, 143808 words/s, in_qsize 0, out_qsize 0\n",
      "2021-08-14 01:48:45,233 : INFO : EPOCH 1 - PROGRESS: at 72.48% examples, 143899 words/s, in_qsize 0, out_qsize 0\n",
      "2021-08-14 01:48:46,252 : INFO : EPOCH 1 - PROGRESS: at 74.96% examples, 143699 words/s, in_qsize 0, out_qsize 0\n",
      "2021-08-14 01:48:47,312 : INFO : EPOCH 1 - PROGRESS: at 77.59% examples, 143622 words/s, in_qsize 0, out_qsize 0\n",
      "2021-08-14 01:48:48,371 : INFO : EPOCH 1 - PROGRESS: at 80.21% examples, 143553 words/s, in_qsize 0, out_qsize 0\n",
      "2021-08-14 01:48:49,433 : INFO : EPOCH 1 - PROGRESS: at 82.84% examples, 143485 words/s, in_qsize 0, out_qsize 0\n",
      "2021-08-14 01:48:50,445 : INFO : EPOCH 1 - PROGRESS: at 85.29% examples, 143350 words/s, in_qsize 0, out_qsize 0\n",
      "2021-08-14 01:48:51,487 : INFO : EPOCH 1 - PROGRESS: at 87.91% examples, 143365 words/s, in_qsize 0, out_qsize 0\n",
      "2021-08-14 01:48:52,512 : INFO : EPOCH 1 - PROGRESS: at 90.38% examples, 143191 words/s, in_qsize 0, out_qsize 0\n",
      "2021-08-14 01:48:53,538 : INFO : EPOCH 1 - PROGRESS: at 92.84% examples, 143020 words/s, in_qsize 0, out_qsize 0\n",
      "2021-08-14 01:48:54,580 : INFO : EPOCH 1 - PROGRESS: at 95.44% examples, 143044 words/s, in_qsize 0, out_qsize 0\n",
      "2021-08-14 01:48:55,628 : INFO : EPOCH 1 - PROGRESS: at 98.05% examples, 143046 words/s, in_qsize 0, out_qsize 0\n",
      "2021-08-14 01:48:56,353 : INFO : worker thread finished; awaiting finish of 7 more threads\n",
      "2021-08-14 01:48:56,354 : INFO : worker thread finished; awaiting finish of 6 more threads\n",
      "2021-08-14 01:48:56,355 : INFO : worker thread finished; awaiting finish of 5 more threads\n",
      "2021-08-14 01:48:56,355 : INFO : worker thread finished; awaiting finish of 4 more threads\n",
      "2021-08-14 01:48:56,356 : INFO : worker thread finished; awaiting finish of 3 more threads\n",
      "2021-08-14 01:48:56,357 : INFO : worker thread finished; awaiting finish of 2 more threads\n",
      "2021-08-14 01:48:56,362 : INFO : worker thread finished; awaiting finish of 1 more threads\n",
      "2021-08-14 01:48:56,433 : INFO : worker thread finished; awaiting finish of 0 more threads\n",
      "2021-08-14 01:48:56,433 : INFO : EPOCH - 1 : training on 6115112 raw words (5736594 effective words) took 40.1s, 142969 effective words/s\n",
      "2021-08-14 01:48:57,456 : INFO : EPOCH 2 - PROGRESS: at 2.29% examples, 128513 words/s, in_qsize 0, out_qsize 0\n",
      "2021-08-14 01:48:58,480 : INFO : EPOCH 2 - PROGRESS: at 4.89% examples, 137585 words/s, in_qsize 0, out_qsize 0\n",
      "2021-08-14 01:48:59,486 : INFO : EPOCH 2 - PROGRESS: at 7.17% examples, 135223 words/s, in_qsize 0, out_qsize 0\n",
      "2021-08-14 01:49:00,487 : INFO : EPOCH 2 - PROGRESS: at 9.62% examples, 136450 words/s, in_qsize 0, out_qsize 0\n",
      "2021-08-14 01:49:01,542 : INFO : EPOCH 2 - PROGRESS: at 12.25% examples, 137642 words/s, in_qsize 0, out_qsize 0\n",
      "2021-08-14 01:49:02,581 : INFO : EPOCH 2 - PROGRESS: at 14.87% examples, 138817 words/s, in_qsize 0, out_qsize 0\n",
      "2021-08-14 01:49:03,584 : INFO : EPOCH 2 - PROGRESS: at 17.48% examples, 140326 words/s, in_qsize 0, out_qsize 0\n",
      "2021-08-14 01:49:04,584 : INFO : EPOCH 2 - PROGRESS: at 19.90% examples, 140367 words/s, in_qsize 0, out_qsize 0\n",
      "2021-08-14 01:49:05,589 : INFO : EPOCH 2 - PROGRESS: at 22.18% examples, 139288 words/s, in_qsize 0, out_qsize 0\n",
      "2021-08-14 01:49:06,626 : INFO : EPOCH 2 - PROGRESS: at 24.63% examples, 138915 words/s, in_qsize 0, out_qsize 0\n",
      "2021-08-14 01:49:07,684 : INFO : EPOCH 2 - PROGRESS: at 27.40% examples, 140008 words/s, in_qsize 0, out_qsize 0\n",
      "2021-08-14 01:49:08,719 : INFO : EPOCH 2 - PROGRESS: at 29.84% examples, 139653 words/s, in_qsize 0, out_qsize 0\n",
      "2021-08-14 01:49:09,780 : INFO : EPOCH 2 - PROGRESS: at 32.46% examples, 139799 words/s, in_qsize 0, out_qsize 0\n",
      "2021-08-14 01:49:10,794 : INFO : EPOCH 2 - PROGRESS: at 35.07% examples, 140364 words/s, in_qsize 0, out_qsize 0\n",
      "2021-08-14 01:49:11,799 : INFO : EPOCH 2 - PROGRESS: at 37.52% examples, 140331 words/s, in_qsize 0, out_qsize 0\n",
      "2021-08-14 01:49:12,844 : INFO : EPOCH 2 - PROGRESS: at 40.12% examples, 140537 words/s, in_qsize 0, out_qsize 0\n",
      "2021-08-14 01:49:13,854 : INFO : EPOCH 2 - PROGRESS: at 42.74% examples, 141000 words/s, in_qsize 0, out_qsize 0\n",
      "2021-08-14 01:49:14,898 : INFO : EPOCH 2 - PROGRESS: at 45.35% examples, 141160 words/s, in_qsize 0, out_qsize 0\n",
      "2021-08-14 01:49:15,904 : INFO : EPOCH 2 - PROGRESS: at 47.81% examples, 141094 words/s, in_qsize 0, out_qsize 0\n",
      "2021-08-14 01:49:16,916 : INFO : EPOCH 2 - PROGRESS: at 50.28% examples, 140980 words/s, in_qsize 0, out_qsize 0\n",
      "2021-08-14 01:49:17,941 : INFO : EPOCH 2 - PROGRESS: at 52.91% examples, 141226 words/s, in_qsize 0, out_qsize 0\n",
      "2021-08-14 01:49:18,957 : INFO : EPOCH 2 - PROGRESS: at 55.50% examples, 141519 words/s, in_qsize 0, out_qsize 0\n",
      "2021-08-14 01:49:19,994 : INFO : EPOCH 2 - PROGRESS: at 57.96% examples, 141252 words/s, in_qsize 0, out_qsize 0\n",
      "2021-08-14 01:49:21,043 : INFO : EPOCH 2 - PROGRESS: at 60.56% examples, 141325 words/s, in_qsize 0, out_qsize 0\n",
      "2021-08-14 01:49:22,046 : INFO : EPOCH 2 - PROGRESS: at 63.01% examples, 141283 words/s, in_qsize 0, out_qsize 0\n",
      "2021-08-14 01:49:23,098 : INFO : EPOCH 2 - PROGRESS: at 65.62% examples, 141325 words/s, in_qsize 0, out_qsize 0\n",
      "2021-08-14 01:49:24,149 : INFO : EPOCH 2 - PROGRESS: at 68.25% examples, 141381 words/s, in_qsize 0, out_qsize 0\n",
      "2021-08-14 01:49:25,183 : INFO : EPOCH 2 - PROGRESS: at 70.87% examples, 141518 words/s, in_qsize 0, out_qsize 0\n",
      "2021-08-14 01:49:26,246 : INFO : EPOCH 2 - PROGRESS: at 73.47% examples, 141501 words/s, in_qsize 0, out_qsize 0\n",
      "2021-08-14 01:49:27,253 : INFO : EPOCH 2 - PROGRESS: at 76.11% examples, 141738 words/s, in_qsize 0, out_qsize 0\n",
      "2021-08-14 01:49:28,326 : INFO : EPOCH 2 - PROGRESS: at 78.74% examples, 141673 words/s, in_qsize 0, out_qsize 0\n",
      "2021-08-14 01:49:29,366 : INFO : EPOCH 2 - PROGRESS: at 81.34% examples, 141750 words/s, in_qsize 0, out_qsize 0\n",
      "2021-08-14 01:49:30,399 : INFO : EPOCH 2 - PROGRESS: at 83.98% examples, 141855 words/s, in_qsize 0, out_qsize 0\n",
      "2021-08-14 01:49:31,477 : INFO : EPOCH 2 - PROGRESS: at 86.60% examples, 141772 words/s, in_qsize 0, out_qsize 0\n",
      "2021-08-14 01:49:32,514 : INFO : EPOCH 2 - PROGRESS: at 89.23% examples, 141851 words/s, in_qsize 0, out_qsize 0\n",
      "2021-08-14 01:49:33,555 : INFO : EPOCH 2 - PROGRESS: at 91.86% examples, 141915 words/s, in_qsize 0, out_qsize 0\n",
      "2021-08-14 01:49:34,618 : INFO : EPOCH 2 - PROGRESS: at 94.30% examples, 141643 words/s, in_qsize 0, out_qsize 0\n",
      "2021-08-14 01:49:35,651 : INFO : EPOCH 2 - PROGRESS: at 96.58% examples, 141258 words/s, in_qsize 0, out_qsize 0\n",
      "2021-08-14 01:49:36,653 : INFO : EPOCH 2 - PROGRESS: at 98.71% examples, 140768 words/s, in_qsize 0, out_qsize 0\n",
      "2021-08-14 01:49:37,097 : INFO : worker thread finished; awaiting finish of 7 more threads\n",
      "2021-08-14 01:49:37,098 : INFO : worker thread finished; awaiting finish of 6 more threads\n",
      "2021-08-14 01:49:37,098 : INFO : worker thread finished; awaiting finish of 5 more threads\n",
      "2021-08-14 01:49:37,098 : INFO : worker thread finished; awaiting finish of 4 more threads\n",
      "2021-08-14 01:49:37,099 : INFO : worker thread finished; awaiting finish of 3 more threads\n",
      "2021-08-14 01:49:37,099 : INFO : worker thread finished; awaiting finish of 2 more threads\n",
      "2021-08-14 01:49:37,105 : INFO : worker thread finished; awaiting finish of 1 more threads\n",
      "2021-08-14 01:49:37,181 : INFO : worker thread finished; awaiting finish of 0 more threads\n",
      "2021-08-14 01:49:37,182 : INFO : EPOCH - 2 : training on 6115112 raw words (5735929 effective words) took 40.7s, 140772 effective words/s\n",
      "2021-08-14 01:49:38,258 : INFO : EPOCH 3 - PROGRESS: at 2.46% examples, 130934 words/s, in_qsize 0, out_qsize 0\n",
      "2021-08-14 01:49:39,309 : INFO : EPOCH 3 - PROGRESS: at 5.05% examples, 136802 words/s, in_qsize 0, out_qsize 0\n",
      "2021-08-14 01:49:40,347 : INFO : EPOCH 3 - PROGRESS: at 7.66% examples, 139304 words/s, in_qsize 0, out_qsize 0\n",
      "2021-08-14 01:49:41,374 : INFO : EPOCH 3 - PROGRESS: at 10.29% examples, 140903 words/s, in_qsize 0, out_qsize 0\n",
      "2021-08-14 01:49:42,388 : INFO : EPOCH 3 - PROGRESS: at 12.90% examples, 142286 words/s, in_qsize 0, out_qsize 0\n",
      "2021-08-14 01:49:43,408 : INFO : EPOCH 3 - PROGRESS: at 15.20% examples, 140092 words/s, in_qsize 0, out_qsize 0\n",
      "2021-08-14 01:49:44,449 : INFO : EPOCH 3 - PROGRESS: at 17.80% examples, 140641 words/s, in_qsize 0, out_qsize 0\n",
      "2021-08-14 01:49:45,506 : INFO : EPOCH 3 - PROGRESS: at 20.55% examples, 141944 words/s, in_qsize 0, out_qsize 0\n",
      "2021-08-14 01:49:46,538 : INFO : EPOCH 3 - PROGRESS: at 23.16% examples, 142317 words/s, in_qsize 0, out_qsize 0\n",
      "2021-08-14 01:49:47,556 : INFO : EPOCH 3 - PROGRESS: at 25.78% examples, 142813 words/s, in_qsize 0, out_qsize 0\n",
      "2021-08-14 01:49:48,607 : INFO : EPOCH 3 - PROGRESS: at 28.21% examples, 141962 words/s, in_qsize 0, out_qsize 0\n",
      "2021-08-14 01:49:49,668 : INFO : EPOCH 3 - PROGRESS: at 30.82% examples, 141907 words/s, in_qsize 0, out_qsize 0\n",
      "2021-08-14 01:49:50,737 : INFO : EPOCH 3 - PROGRESS: at 33.28% examples, 141087 words/s, in_qsize 0, out_qsize 0\n",
      "2021-08-14 01:49:51,834 : INFO : EPOCH 3 - PROGRESS: at 36.06% examples, 141392 words/s, in_qsize 0, out_qsize 0\n",
      "2021-08-14 01:49:52,890 : INFO : EPOCH 3 - PROGRESS: at 38.50% examples, 140825 words/s, in_qsize 0, out_qsize 0\n",
      "2021-08-14 01:49:53,908 : INFO : EPOCH 3 - PROGRESS: at 41.10% examples, 141232 words/s, in_qsize 0, out_qsize 0\n",
      "2021-08-14 01:49:54,942 : INFO : EPOCH 3 - PROGRESS: at 43.73% examples, 141457 words/s, in_qsize 0, out_qsize 0\n",
      "2021-08-14 01:49:55,986 : INFO : EPOCH 3 - PROGRESS: at 46.49% examples, 142085 words/s, in_qsize 0, out_qsize 0\n",
      "2021-08-14 01:49:57,004 : INFO : EPOCH 3 - PROGRESS: at 49.12% examples, 142364 words/s, in_qsize 0, out_qsize 0\n",
      "2021-08-14 01:49:58,065 : INFO : EPOCH 3 - PROGRESS: at 51.92% examples, 142758 words/s, in_qsize 0, out_qsize 0\n",
      "2021-08-14 01:49:59,104 : INFO : EPOCH 3 - PROGRESS: at 54.53% examples, 142832 words/s, in_qsize 0, out_qsize 0\n",
      "2021-08-14 01:50:00,139 : INFO : EPOCH 3 - PROGRESS: at 57.14% examples, 142919 words/s, in_qsize 0, out_qsize 0\n",
      "2021-08-14 01:50:01,150 : INFO : EPOCH 3 - PROGRESS: at 59.58% examples, 142763 words/s, in_qsize 0, out_qsize 0\n",
      "2021-08-14 01:50:02,197 : INFO : EPOCH 3 - PROGRESS: at 62.20% examples, 142786 words/s, in_qsize 0, out_qsize 0\n",
      "2021-08-14 01:50:03,238 : INFO : EPOCH 3 - PROGRESS: at 64.81% examples, 142833 words/s, in_qsize 0, out_qsize 0\n",
      "2021-08-14 01:50:04,288 : INFO : EPOCH 3 - PROGRESS: at 67.42% examples, 142835 words/s, in_qsize 0, out_qsize 0\n",
      "2021-08-14 01:50:05,302 : INFO : EPOCH 3 - PROGRESS: at 69.88% examples, 142685 words/s, in_qsize 0, out_qsize 0\n",
      "2021-08-14 01:50:06,361 : INFO : EPOCH 3 - PROGRESS: at 72.48% examples, 142643 words/s, in_qsize 0, out_qsize 0\n",
      "2021-08-14 01:50:07,396 : INFO : EPOCH 3 - PROGRESS: at 75.12% examples, 142722 words/s, in_qsize 0, out_qsize 0\n",
      "2021-08-14 01:50:08,449 : INFO : EPOCH 3 - PROGRESS: at 77.59% examples, 142414 words/s, in_qsize 0, out_qsize 0\n",
      "2021-08-14 01:50:09,513 : INFO : EPOCH 3 - PROGRESS: at 80.04% examples, 142070 words/s, in_qsize 0, out_qsize 0\n",
      "2021-08-14 01:50:10,548 : INFO : EPOCH 3 - PROGRESS: at 82.51% examples, 141880 words/s, in_qsize 0, out_qsize 0\n",
      "2021-08-14 01:50:11,577 : INFO : EPOCH 3 - PROGRESS: at 84.96% examples, 141718 words/s, in_qsize 0, out_qsize 0\n",
      "2021-08-14 01:50:12,579 : INFO : EPOCH 3 - PROGRESS: at 87.41% examples, 141680 words/s, in_qsize 0, out_qsize 0\n",
      "2021-08-14 01:50:13,630 : INFO : EPOCH 3 - PROGRESS: at 89.89% examples, 141452 words/s, in_qsize 0, out_qsize 0\n",
      "2021-08-14 01:50:14,669 : INFO : EPOCH 3 - PROGRESS: at 92.52% examples, 141532 words/s, in_qsize 0, out_qsize 0\n",
      "2021-08-14 01:50:15,682 : INFO : EPOCH 3 - PROGRESS: at 94.95% examples, 141457 words/s, in_qsize 0, out_qsize 0\n",
      "2021-08-14 01:50:16,721 : INFO : EPOCH 3 - PROGRESS: at 97.56% examples, 141534 words/s, in_qsize 0, out_qsize 0\n",
      "2021-08-14 01:50:17,642 : INFO : worker thread finished; awaiting finish of 7 more threads\n",
      "2021-08-14 01:50:17,644 : INFO : worker thread finished; awaiting finish of 6 more threads\n",
      "2021-08-14 01:50:17,644 : INFO : worker thread finished; awaiting finish of 5 more threads\n",
      "2021-08-14 01:50:17,645 : INFO : worker thread finished; awaiting finish of 4 more threads\n",
      "2021-08-14 01:50:17,645 : INFO : worker thread finished; awaiting finish of 3 more threads\n",
      "2021-08-14 01:50:17,646 : INFO : worker thread finished; awaiting finish of 2 more threads\n",
      "2021-08-14 01:50:17,646 : INFO : worker thread finished; awaiting finish of 1 more threads\n",
      "2021-08-14 01:50:17,731 : INFO : EPOCH 3 - PROGRESS: at 100.00% examples, 141463 words/s, in_qsize 0, out_qsize 1\n",
      "2021-08-14 01:50:17,732 : INFO : worker thread finished; awaiting finish of 0 more threads\n",
      "2021-08-14 01:50:17,733 : INFO : EPOCH - 3 : training on 6115112 raw words (5735944 effective words) took 40.5s, 141458 effective words/s\n",
      "2021-08-14 01:50:18,740 : INFO : EPOCH 4 - PROGRESS: at 2.13% examples, 121234 words/s, in_qsize 0, out_qsize 0\n",
      "2021-08-14 01:50:19,784 : INFO : EPOCH 4 - PROGRESS: at 4.56% examples, 128151 words/s, in_qsize 0, out_qsize 0\n",
      "2021-08-14 01:50:20,808 : INFO : EPOCH 4 - PROGRESS: at 7.00% examples, 131238 words/s, in_qsize 0, out_qsize 0\n",
      "2021-08-14 01:50:21,858 : INFO : EPOCH 4 - PROGRESS: at 9.29% examples, 129563 words/s, in_qsize 0, out_qsize 0\n",
      "2021-08-14 01:50:22,867 : INFO : EPOCH 4 - PROGRESS: at 11.60% examples, 129698 words/s, in_qsize 0, out_qsize 0\n",
      "2021-08-14 01:50:23,908 : INFO : EPOCH 4 - PROGRESS: at 13.89% examples, 129120 words/s, in_qsize 0, out_qsize 0\n",
      "2021-08-14 01:50:24,949 : INFO : EPOCH 4 - PROGRESS: at 16.02% examples, 127377 words/s, in_qsize 0, out_qsize 0\n",
      "2021-08-14 01:50:25,951 : INFO : EPOCH 4 - PROGRESS: at 18.28% examples, 127819 words/s, in_qsize 0, out_qsize 0\n",
      "2021-08-14 01:50:27,004 : INFO : EPOCH 4 - PROGRESS: at 20.87% examples, 129491 words/s, in_qsize 0, out_qsize 0\n",
      "2021-08-14 01:50:28,009 : INFO : EPOCH 4 - PROGRESS: at 23.00% examples, 128680 words/s, in_qsize 0, out_qsize 0\n",
      "2021-08-14 01:50:29,058 : INFO : EPOCH 4 - PROGRESS: at 24.96% examples, 126694 words/s, in_qsize 0, out_qsize 0\n",
      "2021-08-14 01:50:30,116 : INFO : EPOCH 4 - PROGRESS: at 27.72% examples, 128727 words/s, in_qsize 0, out_qsize 0\n",
      "2021-08-14 01:50:31,144 : INFO : EPOCH 4 - PROGRESS: at 30.33% examples, 130045 words/s, in_qsize 0, out_qsize 0\n",
      "2021-08-14 01:50:32,182 : INFO : EPOCH 4 - PROGRESS: at 32.95% examples, 131086 words/s, in_qsize 0, out_qsize 0\n",
      "2021-08-14 01:50:33,196 : INFO : EPOCH 4 - PROGRESS: at 35.39% examples, 131579 words/s, in_qsize 0, out_qsize 0\n",
      "2021-08-14 01:50:34,244 : INFO : EPOCH 4 - PROGRESS: at 38.02% examples, 132306 words/s, in_qsize 0, out_qsize 0\n",
      "2021-08-14 01:50:35,254 : INFO : EPOCH 4 - PROGRESS: at 40.12% examples, 131641 words/s, in_qsize 0, out_qsize 0\n",
      "2021-08-14 01:50:36,339 : INFO : EPOCH 4 - PROGRESS: at 42.41% examples, 131025 words/s, in_qsize 0, out_qsize 0\n",
      "2021-08-14 01:50:37,458 : INFO : EPOCH 4 - PROGRESS: at 44.86% examples, 130726 words/s, in_qsize 1, out_qsize 0\n",
      "2021-08-14 01:50:38,484 : INFO : EPOCH 4 - PROGRESS: at 47.32% examples, 131026 words/s, in_qsize 0, out_qsize 0\n",
      "2021-08-14 01:50:39,503 : INFO : EPOCH 4 - PROGRESS: at 49.79% examples, 131358 words/s, in_qsize 0, out_qsize 0\n",
      "2021-08-14 01:50:40,517 : INFO : EPOCH 4 - PROGRESS: at 52.08% examples, 131264 words/s, in_qsize 0, out_qsize 0\n",
      "2021-08-14 01:50:41,547 : INFO : EPOCH 4 - PROGRESS: at 54.69% examples, 131882 words/s, in_qsize 0, out_qsize 0\n",
      "2021-08-14 01:50:42,593 : INFO : EPOCH 4 - PROGRESS: at 57.14% examples, 131990 words/s, in_qsize 0, out_qsize 0\n",
      "2021-08-14 01:50:43,615 : INFO : EPOCH 4 - PROGRESS: at 59.58% examples, 132210 words/s, in_qsize 0, out_qsize 0\n",
      "2021-08-14 01:50:44,653 : INFO : EPOCH 4 - PROGRESS: at 62.20% examples, 132685 words/s, in_qsize 0, out_qsize 0\n",
      "2021-08-14 01:50:45,707 : INFO : EPOCH 4 - PROGRESS: at 64.81% examples, 133046 words/s, in_qsize 0, out_qsize 0\n",
      "2021-08-14 01:50:46,758 : INFO : EPOCH 4 - PROGRESS: at 67.26% examples, 133070 words/s, in_qsize 0, out_qsize 0\n",
      "2021-08-14 01:50:47,815 : INFO : EPOCH 4 - PROGRESS: at 70.04% examples, 133695 words/s, in_qsize 0, out_qsize 0\n",
      "2021-08-14 01:50:48,847 : INFO : EPOCH 4 - PROGRESS: at 72.65% examples, 134074 words/s, in_qsize 0, out_qsize 0\n",
      "2021-08-14 01:50:49,874 : INFO : EPOCH 4 - PROGRESS: at 75.28% examples, 134461 words/s, in_qsize 0, out_qsize 0\n",
      "2021-08-14 01:50:50,889 : INFO : EPOCH 4 - PROGRESS: at 77.75% examples, 134587 words/s, in_qsize 0, out_qsize 0\n",
      "2021-08-14 01:50:51,901 : INFO : EPOCH 4 - PROGRESS: at 80.21% examples, 134712 words/s, in_qsize 0, out_qsize 0\n",
      "2021-08-14 01:50:52,905 : INFO : EPOCH 4 - PROGRESS: at 82.67% examples, 134864 words/s, in_qsize 0, out_qsize 0\n",
      "2021-08-14 01:50:53,931 : INFO : EPOCH 4 - PROGRESS: at 85.29% examples, 135183 words/s, in_qsize 0, out_qsize 0\n",
      "2021-08-14 01:50:54,988 : INFO : EPOCH 4 - PROGRESS: at 87.91% examples, 135372 words/s, in_qsize 0, out_qsize 0\n",
      "2021-08-14 01:50:56,020 : INFO : EPOCH 4 - PROGRESS: at 90.38% examples, 135391 words/s, in_qsize 0, out_qsize 0\n",
      "2021-08-14 01:50:57,055 : INFO : EPOCH 4 - PROGRESS: at 93.00% examples, 135645 words/s, in_qsize 0, out_qsize 0\n",
      "2021-08-14 01:50:58,081 : INFO : EPOCH 4 - PROGRESS: at 95.27% examples, 135446 words/s, in_qsize 0, out_qsize 0\n",
      "2021-08-14 01:50:59,105 : INFO : EPOCH 4 - PROGRESS: at 97.56% examples, 135267 words/s, in_qsize 0, out_qsize 0\n",
      "2021-08-14 01:50:59,980 : INFO : worker thread finished; awaiting finish of 7 more threads\n",
      "2021-08-14 01:50:59,981 : INFO : worker thread finished; awaiting finish of 6 more threads\n",
      "2021-08-14 01:50:59,982 : INFO : worker thread finished; awaiting finish of 5 more threads\n",
      "2021-08-14 01:50:59,983 : INFO : worker thread finished; awaiting finish of 4 more threads\n",
      "2021-08-14 01:50:59,984 : INFO : worker thread finished; awaiting finish of 3 more threads\n",
      "2021-08-14 01:50:59,984 : INFO : worker thread finished; awaiting finish of 2 more threads\n",
      "2021-08-14 01:50:59,990 : INFO : worker thread finished; awaiting finish of 1 more threads\n",
      "2021-08-14 01:51:00,053 : INFO : worker thread finished; awaiting finish of 0 more threads\n",
      "2021-08-14 01:51:00,053 : INFO : EPOCH - 4 : training on 6115112 raw words (5736087 effective words) took 42.3s, 135547 effective words/s\n",
      "2021-08-14 01:51:01,104 : INFO : EPOCH 5 - PROGRESS: at 2.13% examples, 116110 words/s, in_qsize 0, out_qsize 0\n",
      "2021-08-14 01:51:02,147 : INFO : EPOCH 5 - PROGRESS: at 4.73% examples, 129997 words/s, in_qsize 0, out_qsize 0\n",
      "2021-08-14 01:51:03,155 : INFO : EPOCH 5 - PROGRESS: at 7.33% examples, 136100 words/s, in_qsize 0, out_qsize 0\n",
      "2021-08-14 01:51:04,167 : INFO : EPOCH 5 - PROGRESS: at 9.79% examples, 136729 words/s, in_qsize 0, out_qsize 0\n",
      "2021-08-14 01:51:05,239 : INFO : EPOCH 5 - PROGRESS: at 12.41% examples, 137408 words/s, in_qsize 0, out_qsize 0\n",
      "2021-08-14 01:51:06,257 : INFO : EPOCH 5 - PROGRESS: at 15.04% examples, 139090 words/s, in_qsize 0, out_qsize 0\n",
      "2021-08-14 01:51:07,310 : INFO : EPOCH 5 - PROGRESS: at 17.64% examples, 139552 words/s, in_qsize 0, out_qsize 0\n",
      "2021-08-14 01:51:08,338 : INFO : EPOCH 5 - PROGRESS: at 20.23% examples, 140344 words/s, in_qsize 0, out_qsize 0\n",
      "2021-08-14 01:51:09,386 : INFO : EPOCH 5 - PROGRESS: at 22.67% examples, 139648 words/s, in_qsize 0, out_qsize 0\n",
      "2021-08-14 01:51:10,475 : INFO : EPOCH 5 - PROGRESS: at 24.96% examples, 137652 words/s, in_qsize 0, out_qsize 0\n",
      "2021-08-14 01:51:11,495 : INFO : EPOCH 5 - PROGRESS: at 27.40% examples, 137665 words/s, in_qsize 0, out_qsize 0\n",
      "2021-08-14 01:51:12,530 : INFO : EPOCH 5 - PROGRESS: at 29.84% examples, 137516 words/s, in_qsize 0, out_qsize 0\n",
      "2021-08-14 01:51:13,557 : INFO : EPOCH 5 - PROGRESS: at 32.13% examples, 136771 words/s, in_qsize 0, out_qsize 0\n",
      "2021-08-14 01:51:14,606 : INFO : EPOCH 5 - PROGRESS: at 34.42% examples, 135918 words/s, in_qsize 0, out_qsize 0\n",
      "2021-08-14 01:51:15,640 : INFO : EPOCH 5 - PROGRESS: at 37.03% examples, 136522 words/s, in_qsize 0, out_qsize 0\n",
      "2021-08-14 01:51:16,690 : INFO : EPOCH 5 - PROGRESS: at 39.64% examples, 136908 words/s, in_qsize 0, out_qsize 0\n",
      "2021-08-14 01:51:17,724 : INFO : EPOCH 5 - PROGRESS: at 42.25% examples, 137390 words/s, in_qsize 0, out_qsize 0\n",
      "2021-08-14 01:51:18,766 : INFO : EPOCH 5 - PROGRESS: at 44.38% examples, 136259 words/s, in_qsize 0, out_qsize 0\n",
      "2021-08-14 01:51:19,782 : INFO : EPOCH 5 - PROGRESS: at 46.83% examples, 136374 words/s, in_qsize 0, out_qsize 0\n",
      "2021-08-14 01:51:20,847 : INFO : EPOCH 5 - PROGRESS: at 49.29% examples, 136152 words/s, in_qsize 0, out_qsize 0\n",
      "2021-08-14 01:51:21,856 : INFO : EPOCH 5 - PROGRESS: at 51.92% examples, 136733 words/s, in_qsize 0, out_qsize 0\n",
      "2021-08-14 01:51:22,887 : INFO : EPOCH 5 - PROGRESS: at 54.20% examples, 136306 words/s, in_qsize 0, out_qsize 0\n",
      "2021-08-14 01:51:23,900 : INFO : EPOCH 5 - PROGRESS: at 56.65% examples, 136404 words/s, in_qsize 0, out_qsize 0\n",
      "2021-08-14 01:51:24,915 : INFO : EPOCH 5 - PROGRESS: at 58.93% examples, 136114 words/s, in_qsize 0, out_qsize 0\n",
      "2021-08-14 01:51:25,930 : INFO : EPOCH 5 - PROGRESS: at 61.21% examples, 135843 words/s, in_qsize 0, out_qsize 0\n",
      "2021-08-14 01:51:26,967 : INFO : EPOCH 5 - PROGRESS: at 63.50% examples, 135488 words/s, in_qsize 0, out_qsize 0\n",
      "2021-08-14 01:51:27,979 : INFO : EPOCH 5 - PROGRESS: at 65.79% examples, 135272 words/s, in_qsize 0, out_qsize 0\n",
      "2021-08-14 01:51:29,042 : INFO : EPOCH 5 - PROGRESS: at 67.93% examples, 134519 words/s, in_qsize 0, out_qsize 0\n",
      "2021-08-14 01:51:30,105 : INFO : EPOCH 5 - PROGRESS: at 70.37% examples, 134445 words/s, in_qsize 0, out_qsize 0\n",
      "2021-08-14 01:51:31,158 : INFO : EPOCH 5 - PROGRESS: at 72.32% examples, 133503 words/s, in_qsize 0, out_qsize 0\n",
      "2021-08-14 01:51:32,206 : INFO : EPOCH 5 - PROGRESS: at 74.63% examples, 133241 words/s, in_qsize 0, out_qsize 0\n",
      "2021-08-14 01:51:33,265 : INFO : EPOCH 5 - PROGRESS: at 77.10% examples, 133227 words/s, in_qsize 0, out_qsize 0\n",
      "2021-08-14 01:51:34,276 : INFO : EPOCH 5 - PROGRESS: at 79.22% examples, 132850 words/s, in_qsize 0, out_qsize 0\n",
      "2021-08-14 01:51:35,286 : INFO : EPOCH 5 - PROGRESS: at 81.51% examples, 132765 words/s, in_qsize 0, out_qsize 0\n",
      "2021-08-14 01:51:36,289 : INFO : EPOCH 5 - PROGRESS: at 83.82% examples, 132717 words/s, in_qsize 0, out_qsize 0\n",
      "2021-08-14 01:51:37,319 : INFO : EPOCH 5 - PROGRESS: at 86.11% examples, 132568 words/s, in_qsize 0, out_qsize 0\n",
      "2021-08-14 01:51:38,349 : INFO : EPOCH 5 - PROGRESS: at 88.40% examples, 132429 words/s, in_qsize 0, out_qsize 0\n",
      "2021-08-14 01:51:39,371 : INFO : EPOCH 5 - PROGRESS: at 90.71% examples, 132324 words/s, in_qsize 0, out_qsize 0\n",
      "2021-08-14 01:51:40,415 : INFO : EPOCH 5 - PROGRESS: at 93.15% examples, 132386 words/s, in_qsize 0, out_qsize 0\n",
      "2021-08-14 01:51:41,450 : INFO : EPOCH 5 - PROGRESS: at 95.44% examples, 132248 words/s, in_qsize 0, out_qsize 0\n",
      "2021-08-14 01:51:42,471 : INFO : EPOCH 5 - PROGRESS: at 97.73% examples, 132159 words/s, in_qsize 0, out_qsize 0\n",
      "2021-08-14 01:51:43,329 : INFO : worker thread finished; awaiting finish of 7 more threads\n",
      "2021-08-14 01:51:43,330 : INFO : worker thread finished; awaiting finish of 6 more threads\n",
      "2021-08-14 01:51:43,331 : INFO : worker thread finished; awaiting finish of 5 more threads\n",
      "2021-08-14 01:51:43,332 : INFO : worker thread finished; awaiting finish of 4 more threads\n",
      "2021-08-14 01:51:43,333 : INFO : worker thread finished; awaiting finish of 3 more threads\n",
      "2021-08-14 01:51:43,333 : INFO : worker thread finished; awaiting finish of 2 more threads\n",
      "2021-08-14 01:51:43,338 : INFO : worker thread finished; awaiting finish of 1 more threads\n",
      "2021-08-14 01:51:43,404 : INFO : worker thread finished; awaiting finish of 0 more threads\n",
      "2021-08-14 01:51:43,404 : INFO : EPOCH - 5 : training on 6115112 raw words (5736419 effective words) took 43.3s, 132331 effective words/s\n",
      "2021-08-14 01:51:43,405 : INFO : Word2Vec lifecycle event {'msg': 'training on 30575560 raw words (28680973 effective words) took 207.1s, 138489 effective words/s', 'datetime': '2021-08-14T01:51:43.405343', 'gensim': '4.0.1', 'python': '3.9.5 (default, Jun  4 2021, 12:28:51) \\n[GCC 7.5.0]', 'platform': 'Linux-5.4.97-gentoo-x86_64-Intel-R-_Core-TM-_i7-4770K_CPU_@_3.50GHz-with-glibc2.33', 'event': 'train'}\n",
      "2021-08-14 01:51:43,405 : INFO : Word2Vec lifecycle event {'params': 'Word2Vec(vocab=36333, vector_size=256, alpha=0.025)', 'datetime': '2021-08-14T01:51:43.405818', 'gensim': '4.0.1', 'python': '3.9.5 (default, Jun  4 2021, 12:28:51) \\n[GCC 7.5.0]', 'platform': 'Linux-5.4.97-gentoo-x86_64-Intel-R-_Core-TM-_i7-4770K_CPU_@_3.50GHz-with-glibc2.33', 'event': 'created'}\n"
     ]
    }
   ],
   "source": [
    "embedding_dim = 256 #32 #256 #128\n",
    "seed = 42\n",
    "epochs = 5 #2 #100 #5\n",
    "\n",
    "#corpus = Corpus('{}/preproc/dataset.csv'.format(handle))\n",
    "corpus = Corpus('{}/preproc/train.csv'.format(handle))\n",
    "\n",
    "logging.basicConfig(format='%(asctime)s : %(levelname)s : %(message)s', level=logging.INFO)\n",
    "model = gs.models.Word2Vec(sentences=corpus,\n",
    "                           min_count=5,\n",
    "                           sg=1,\n",
    "                           seed=seed,\n",
    "                           vector_size=embedding_dim,\n",
    "                           workers=8,\n",
    "                           epochs=epochs\n",
    "                          )"
   ]
  },
  {
   "cell_type": "code",
   "execution_count": 8,
   "id": "2c940d86-8734-49a5-b2e6-c27fd5ac592b",
   "metadata": {},
   "outputs": [
    {
     "name": "stderr",
     "output_type": "stream",
     "text": [
      "2021-08-14 01:52:55,136 : INFO : Word2Vec lifecycle event {'fname_or_handle': 'Erdayastronaut/preproc/gensim-w2v-model.gs', 'separately': 'None', 'sep_limit': 10485760, 'ignore': frozenset(), 'datetime': '2021-08-14T01:52:55.136095', 'gensim': '4.0.1', 'python': '3.9.5 (default, Jun  4 2021, 12:28:51) \\n[GCC 7.5.0]', 'platform': 'Linux-5.4.97-gentoo-x86_64-Intel-R-_Core-TM-_i7-4770K_CPU_@_3.50GHz-with-glibc2.33', 'event': 'saving'}\n",
      "2021-08-14 01:52:55,136 : INFO : not storing attribute cum_table\n",
      "2021-08-14 01:52:55,217 : INFO : saved Erdayastronaut/preproc/gensim-w2v-model.gs\n"
     ]
    }
   ],
   "source": [
    "model.save('{}/preproc/gensim-w2v-model.gs'.format(handle))"
   ]
  },
  {
   "cell_type": "code",
   "execution_count": 9,
   "id": "40a4b7dc-7751-4581-baaf-129e92152bf1",
   "metadata": {},
   "outputs": [
    {
     "name": "stderr",
     "output_type": "stream",
     "text": [
      "2021-08-14 01:52:57,671 : INFO : KeyedVectors lifecycle event {'fname_or_handle': 'Erdayastronaut/preproc/gensim_w2v_vectors.gs', 'separately': 'None', 'sep_limit': 10485760, 'ignore': frozenset(), 'datetime': '2021-08-14T01:52:57.671796', 'gensim': '4.0.1', 'python': '3.9.5 (default, Jun  4 2021, 12:28:51) \\n[GCC 7.5.0]', 'platform': 'Linux-5.4.97-gentoo-x86_64-Intel-R-_Core-TM-_i7-4770K_CPU_@_3.50GHz-with-glibc2.33', 'event': 'saving'}\n",
      "2021-08-14 01:52:57,710 : INFO : saved Erdayastronaut/preproc/gensim_w2v_vectors.gs\n"
     ]
    }
   ],
   "source": [
    "#model.wv.get_keras_embedding(train_embeddings=False)\n",
    "model.wv.save('{}/preproc/gensim_w2v_vectors.gs'.format(handle))"
   ]
  },
  {
   "cell_type": "code",
   "execution_count": 9,
   "id": "72e34071-d156-4600-932b-fc632c778487",
   "metadata": {},
   "outputs": [
    {
     "name": "stderr",
     "output_type": "stream",
     "text": [
      "2021-07-11 18:11:50,250 : INFO : loading projection weights from preproc/gensim-w2v-model.gs\n"
     ]
    },
    {
     "ename": "UnicodeDecodeError",
     "evalue": "'utf-8' codec can't decode byte 0x80 in position 0: invalid start byte",
     "output_type": "error",
     "traceback": [
      "\u001B[0;31m---------------------------------------------------------------------------\u001B[0m",
      "\u001B[0;31mUnicodeDecodeError\u001B[0m                        Traceback (most recent call last)",
      "\u001B[0;32m<ipython-input-9-75866374dd2c>\u001B[0m in \u001B[0;36m<module>\u001B[0;34m\u001B[0m\n\u001B[1;32m      1\u001B[0m \u001B[0;31m# For some weird reason, gensim can't decode its own file...\u001B[0m\u001B[0;34m\u001B[0m\u001B[0;34m\u001B[0m\u001B[0;34m\u001B[0m\u001B[0m\n\u001B[1;32m      2\u001B[0m \u001B[0;34m\u001B[0m\u001B[0m\n\u001B[0;32m----> 3\u001B[0;31m \u001B[0mmodel\u001B[0m \u001B[0;34m=\u001B[0m \u001B[0mgs\u001B[0m\u001B[0;34m.\u001B[0m\u001B[0mmodels\u001B[0m\u001B[0;34m.\u001B[0m\u001B[0mKeyedVectors\u001B[0m\u001B[0;34m.\u001B[0m\u001B[0mload_word2vec_format\u001B[0m\u001B[0;34m(\u001B[0m\u001B[0;34m'preproc/gensim-w2v-model.gs'\u001B[0m\u001B[0;34m,\u001B[0m \u001B[0mbinary\u001B[0m\u001B[0;34m=\u001B[0m\u001B[0;32mFalse\u001B[0m\u001B[0;34m)\u001B[0m\u001B[0;34m\u001B[0m\u001B[0;34m\u001B[0m\u001B[0m\n\u001B[0m",
      "\u001B[0;32m~/anaconda3/envs/nlp_gensim/lib/python3.9/site-packages/gensim/models/keyedvectors.py\u001B[0m in \u001B[0;36mload_word2vec_format\u001B[0;34m(cls, fname, fvocab, binary, encoding, unicode_errors, limit, datatype, no_header)\u001B[0m\n\u001B[1;32m   1628\u001B[0m \u001B[0;34m\u001B[0m\u001B[0m\n\u001B[1;32m   1629\u001B[0m         \"\"\"\n\u001B[0;32m-> 1630\u001B[0;31m         return _load_word2vec_format(\n\u001B[0m\u001B[1;32m   1631\u001B[0m             \u001B[0mcls\u001B[0m\u001B[0;34m,\u001B[0m \u001B[0mfname\u001B[0m\u001B[0;34m,\u001B[0m \u001B[0mfvocab\u001B[0m\u001B[0;34m=\u001B[0m\u001B[0mfvocab\u001B[0m\u001B[0;34m,\u001B[0m \u001B[0mbinary\u001B[0m\u001B[0;34m=\u001B[0m\u001B[0mbinary\u001B[0m\u001B[0;34m,\u001B[0m \u001B[0mencoding\u001B[0m\u001B[0;34m=\u001B[0m\u001B[0mencoding\u001B[0m\u001B[0;34m,\u001B[0m \u001B[0municode_errors\u001B[0m\u001B[0;34m=\u001B[0m\u001B[0municode_errors\u001B[0m\u001B[0;34m,\u001B[0m\u001B[0;34m\u001B[0m\u001B[0;34m\u001B[0m\u001B[0m\n\u001B[1;32m   1632\u001B[0m             \u001B[0mlimit\u001B[0m\u001B[0;34m=\u001B[0m\u001B[0mlimit\u001B[0m\u001B[0;34m,\u001B[0m \u001B[0mdatatype\u001B[0m\u001B[0;34m=\u001B[0m\u001B[0mdatatype\u001B[0m\u001B[0;34m,\u001B[0m \u001B[0mno_header\u001B[0m\u001B[0;34m=\u001B[0m\u001B[0mno_header\u001B[0m\u001B[0;34m,\u001B[0m\u001B[0;34m\u001B[0m\u001B[0;34m\u001B[0m\u001B[0m\n",
      "\u001B[0;32m~/anaconda3/envs/nlp_gensim/lib/python3.9/site-packages/gensim/models/keyedvectors.py\u001B[0m in \u001B[0;36m_load_word2vec_format\u001B[0;34m(cls, fname, fvocab, binary, encoding, unicode_errors, limit, datatype, no_header, binary_chunk_size)\u001B[0m\n\u001B[1;32m   1900\u001B[0m             \u001B[0mfin\u001B[0m \u001B[0;34m=\u001B[0m \u001B[0mutils\u001B[0m\u001B[0;34m.\u001B[0m\u001B[0mopen\u001B[0m\u001B[0;34m(\u001B[0m\u001B[0mfname\u001B[0m\u001B[0;34m,\u001B[0m \u001B[0;34m'rb'\u001B[0m\u001B[0;34m)\u001B[0m\u001B[0;34m\u001B[0m\u001B[0;34m\u001B[0m\u001B[0m\n\u001B[1;32m   1901\u001B[0m         \u001B[0;32melse\u001B[0m\u001B[0;34m:\u001B[0m\u001B[0;34m\u001B[0m\u001B[0;34m\u001B[0m\u001B[0m\n\u001B[0;32m-> 1902\u001B[0;31m             \u001B[0mheader\u001B[0m \u001B[0;34m=\u001B[0m \u001B[0mutils\u001B[0m\u001B[0;34m.\u001B[0m\u001B[0mto_unicode\u001B[0m\u001B[0;34m(\u001B[0m\u001B[0mfin\u001B[0m\u001B[0;34m.\u001B[0m\u001B[0mreadline\u001B[0m\u001B[0;34m(\u001B[0m\u001B[0;34m)\u001B[0m\u001B[0;34m,\u001B[0m \u001B[0mencoding\u001B[0m\u001B[0;34m=\u001B[0m\u001B[0mencoding\u001B[0m\u001B[0;34m)\u001B[0m\u001B[0;34m\u001B[0m\u001B[0;34m\u001B[0m\u001B[0m\n\u001B[0m\u001B[1;32m   1903\u001B[0m             \u001B[0mvocab_size\u001B[0m\u001B[0;34m,\u001B[0m \u001B[0mvector_size\u001B[0m \u001B[0;34m=\u001B[0m \u001B[0;34m[\u001B[0m\u001B[0mint\u001B[0m\u001B[0;34m(\u001B[0m\u001B[0mx\u001B[0m\u001B[0;34m)\u001B[0m \u001B[0;32mfor\u001B[0m \u001B[0mx\u001B[0m \u001B[0;32min\u001B[0m \u001B[0mheader\u001B[0m\u001B[0;34m.\u001B[0m\u001B[0msplit\u001B[0m\u001B[0;34m(\u001B[0m\u001B[0;34m)\u001B[0m\u001B[0;34m]\u001B[0m  \u001B[0;31m# throws for invalid file format\u001B[0m\u001B[0;34m\u001B[0m\u001B[0;34m\u001B[0m\u001B[0m\n\u001B[1;32m   1904\u001B[0m         \u001B[0;32mif\u001B[0m \u001B[0mlimit\u001B[0m\u001B[0;34m:\u001B[0m\u001B[0;34m\u001B[0m\u001B[0;34m\u001B[0m\u001B[0m\n",
      "\u001B[0;32m~/anaconda3/envs/nlp_gensim/lib/python3.9/site-packages/gensim/utils.py\u001B[0m in \u001B[0;36many2unicode\u001B[0;34m(text, encoding, errors)\u001B[0m\n\u001B[1;32m    363\u001B[0m     \u001B[0;32mif\u001B[0m \u001B[0misinstance\u001B[0m\u001B[0;34m(\u001B[0m\u001B[0mtext\u001B[0m\u001B[0;34m,\u001B[0m \u001B[0mstr\u001B[0m\u001B[0;34m)\u001B[0m\u001B[0;34m:\u001B[0m\u001B[0;34m\u001B[0m\u001B[0;34m\u001B[0m\u001B[0m\n\u001B[1;32m    364\u001B[0m         \u001B[0;32mreturn\u001B[0m \u001B[0mtext\u001B[0m\u001B[0;34m\u001B[0m\u001B[0;34m\u001B[0m\u001B[0m\n\u001B[0;32m--> 365\u001B[0;31m     \u001B[0;32mreturn\u001B[0m \u001B[0mstr\u001B[0m\u001B[0;34m(\u001B[0m\u001B[0mtext\u001B[0m\u001B[0;34m,\u001B[0m \u001B[0mencoding\u001B[0m\u001B[0;34m,\u001B[0m \u001B[0merrors\u001B[0m\u001B[0;34m=\u001B[0m\u001B[0merrors\u001B[0m\u001B[0;34m)\u001B[0m\u001B[0;34m\u001B[0m\u001B[0;34m\u001B[0m\u001B[0m\n\u001B[0m\u001B[1;32m    366\u001B[0m \u001B[0;34m\u001B[0m\u001B[0m\n\u001B[1;32m    367\u001B[0m \u001B[0;34m\u001B[0m\u001B[0m\n",
      "\u001B[0;31mUnicodeDecodeError\u001B[0m: 'utf-8' codec can't decode byte 0x80 in position 0: invalid start byte"
     ]
    }
   ],
   "source": [
    "# For some weird reason, gensim can't decode its own file...\n",
    "\n",
    "#model = gs.models.KeyedVectors.load_word2vec_format('preproc/gensim-w2v-model.gs', binary=False)"
   ]
  },
  {
   "cell_type": "code",
   "execution_count": 10,
   "id": "188ada96-b31d-4810-adb4-8edb762ebd82",
   "metadata": {},
   "outputs": [],
   "source": [
    "# So we have to save our own dataframe...\n",
    "\n",
    "#print(model.wv[0])\n",
    "#print(model.wv.index_to_key[0])\n",
    "#print(model.wv.key_to_index['mal'])\n",
    "\n",
    "vocab_size = len(model.wv.key_to_index)\n",
    "tmp = {}\n",
    "\n",
    "for i in range(vocab_size):\n",
    "    word = model.wv.index_to_key[i]\n",
    "    vec  = model.wv[i]\n",
    "    \n",
    "    tmp[word] = vec\n",
    "    #newDF = newDF.append({word: vec}, ignore_index=True)\n",
    "\n",
    "newDF = pd.DataFrame.from_dict({'word': [*tmp], 'vec': [*tmp.values()]})\n",
    "#newDF = newDF.append(tmp, ignore_index=True)\n",
    "#for i in range(vocab_size):\n",
    "#    vec = model.wv[i]\n",
    "#    if(vec is not None):\n",
    "#        mat[i] = vec\n",
    "\n",
    "#mat\n",
    "\n",
    "newDF.head()\n",
    "\n",
    "newDF.to_pickle('{}/preproc/gensim_w2v_dict.pkl'.format(handle))"
   ]
  },
  {
   "cell_type": "code",
   "execution_count": 11,
   "id": "d2930952-5d2d-4754-bcf8-f87d637f0881",
   "metadata": {},
   "outputs": [
    {
     "name": "stdout",
     "output_type": "stream",
     "text": [
      "word #0/36333 is spac\n",
      "word #1/36333 is launch\n",
      "word #2/36333 is new\n",
      "word #3/36333 is today\n",
      "word #4/36333 is amp\n",
      "word #5/36333 is fir\n",
      "word #6/36333 is nasa\n",
      "word #7/36333 is day\n",
      "word #8/36333 is one\n",
      "word #9/36333 is missio\n"
     ]
    }
   ],
   "source": [
    "for index, word in enumerate(model.wv.index_to_key):\n",
    "    if index==10:\n",
    "        break\n",
    "    print(f\"word #{index}/{len(model.wv.index_to_key)} is {word}\")"
   ]
  },
  {
   "cell_type": "code",
   "execution_count": 12,
   "id": "4c74f104-f4fc-4b4e-b4fe-12f5344c241e",
   "metadata": {},
   "outputs": [
    {
     "name": "stdout",
     "output_type": "stream",
     "text": [
      "'cameroon' does not appear in this model\n"
     ]
    }
   ],
   "source": [
    "try:\n",
    "    vec_cameroon = model.wv['cameroon']\n",
    "except KeyError:\n",
    "        print(\"'cameroon' does not appear in this model\")"
   ]
  },
  {
   "cell_type": "code",
   "execution_count": 13,
   "id": "6aa42b78-1b52-406c-afbf-463ad6599481",
   "metadata": {},
   "outputs": [
    {
     "ename": "KeyError",
     "evalue": "\"Key 'frau' not present\"",
     "output_type": "error",
     "traceback": [
      "\u001B[0;31m---------------------------------------------------------------------------\u001B[0m",
      "\u001B[0;31mKeyError\u001B[0m                                  Traceback (most recent call last)",
      "\u001B[0;32m<ipython-input-13-a49ab7aabe76>\u001B[0m in \u001B[0;36m<module>\u001B[0;34m\u001B[0m\n\u001B[1;32m     12\u001B[0m \u001B[0;34m\u001B[0m\u001B[0m\n\u001B[1;32m     13\u001B[0m \u001B[0;32mfor\u001B[0m \u001B[0mw1\u001B[0m\u001B[0;34m,\u001B[0m \u001B[0mw2\u001B[0m \u001B[0;32min\u001B[0m \u001B[0mpairs\u001B[0m\u001B[0;34m:\u001B[0m\u001B[0;34m\u001B[0m\u001B[0;34m\u001B[0m\u001B[0m\n\u001B[0;32m---> 14\u001B[0;31m     \u001B[0mprint\u001B[0m\u001B[0;34m(\u001B[0m\u001B[0;34m'%r\\t%r\\t%.2f'\u001B[0m \u001B[0;34m%\u001B[0m \u001B[0;34m(\u001B[0m\u001B[0mw1\u001B[0m\u001B[0;34m,\u001B[0m \u001B[0mw2\u001B[0m\u001B[0;34m,\u001B[0m \u001B[0mmodel\u001B[0m\u001B[0;34m.\u001B[0m\u001B[0mwv\u001B[0m\u001B[0;34m.\u001B[0m\u001B[0msimilarity\u001B[0m\u001B[0;34m(\u001B[0m\u001B[0mw1\u001B[0m\u001B[0;34m,\u001B[0m \u001B[0mw2\u001B[0m\u001B[0;34m)\u001B[0m\u001B[0;34m)\u001B[0m\u001B[0;34m)\u001B[0m\u001B[0;34m\u001B[0m\u001B[0;34m\u001B[0m\u001B[0m\n\u001B[0m",
      "\u001B[0;32m~/anaconda3/envs/nlp_gensim/lib/python3.9/site-packages/gensim/models/keyedvectors.py\u001B[0m in \u001B[0;36msimilarity\u001B[0;34m(self, w1, w2)\u001B[0m\n\u001B[1;32m   1153\u001B[0m \u001B[0;34m\u001B[0m\u001B[0m\n\u001B[1;32m   1154\u001B[0m         \"\"\"\n\u001B[0;32m-> 1155\u001B[0;31m         \u001B[0;32mreturn\u001B[0m \u001B[0mdot\u001B[0m\u001B[0;34m(\u001B[0m\u001B[0mmatutils\u001B[0m\u001B[0;34m.\u001B[0m\u001B[0munitvec\u001B[0m\u001B[0;34m(\u001B[0m\u001B[0mself\u001B[0m\u001B[0;34m[\u001B[0m\u001B[0mw1\u001B[0m\u001B[0;34m]\u001B[0m\u001B[0;34m)\u001B[0m\u001B[0;34m,\u001B[0m \u001B[0mmatutils\u001B[0m\u001B[0;34m.\u001B[0m\u001B[0munitvec\u001B[0m\u001B[0;34m(\u001B[0m\u001B[0mself\u001B[0m\u001B[0;34m[\u001B[0m\u001B[0mw2\u001B[0m\u001B[0;34m]\u001B[0m\u001B[0;34m)\u001B[0m\u001B[0;34m)\u001B[0m\u001B[0;34m\u001B[0m\u001B[0;34m\u001B[0m\u001B[0m\n\u001B[0m\u001B[1;32m   1156\u001B[0m \u001B[0;34m\u001B[0m\u001B[0m\n\u001B[1;32m   1157\u001B[0m     \u001B[0;32mdef\u001B[0m \u001B[0mn_similarity\u001B[0m\u001B[0;34m(\u001B[0m\u001B[0mself\u001B[0m\u001B[0;34m,\u001B[0m \u001B[0mws1\u001B[0m\u001B[0;34m,\u001B[0m \u001B[0mws2\u001B[0m\u001B[0;34m)\u001B[0m\u001B[0;34m:\u001B[0m\u001B[0;34m\u001B[0m\u001B[0;34m\u001B[0m\u001B[0m\n",
      "\u001B[0;32m~/anaconda3/envs/nlp_gensim/lib/python3.9/site-packages/gensim/models/keyedvectors.py\u001B[0m in \u001B[0;36m__getitem__\u001B[0;34m(self, key_or_keys)\u001B[0m\n\u001B[1;32m    377\u001B[0m         \"\"\"\n\u001B[1;32m    378\u001B[0m         \u001B[0;32mif\u001B[0m \u001B[0misinstance\u001B[0m\u001B[0;34m(\u001B[0m\u001B[0mkey_or_keys\u001B[0m\u001B[0;34m,\u001B[0m \u001B[0mKEY_TYPES\u001B[0m\u001B[0;34m)\u001B[0m\u001B[0;34m:\u001B[0m\u001B[0;34m\u001B[0m\u001B[0;34m\u001B[0m\u001B[0m\n\u001B[0;32m--> 379\u001B[0;31m             \u001B[0;32mreturn\u001B[0m \u001B[0mself\u001B[0m\u001B[0;34m.\u001B[0m\u001B[0mget_vector\u001B[0m\u001B[0;34m(\u001B[0m\u001B[0mkey_or_keys\u001B[0m\u001B[0;34m)\u001B[0m\u001B[0;34m\u001B[0m\u001B[0;34m\u001B[0m\u001B[0m\n\u001B[0m\u001B[1;32m    380\u001B[0m \u001B[0;34m\u001B[0m\u001B[0m\n\u001B[1;32m    381\u001B[0m         \u001B[0;32mreturn\u001B[0m \u001B[0mvstack\u001B[0m\u001B[0;34m(\u001B[0m\u001B[0;34m[\u001B[0m\u001B[0mself\u001B[0m\u001B[0;34m.\u001B[0m\u001B[0mget_vector\u001B[0m\u001B[0;34m(\u001B[0m\u001B[0mkey\u001B[0m\u001B[0;34m)\u001B[0m \u001B[0;32mfor\u001B[0m \u001B[0mkey\u001B[0m \u001B[0;32min\u001B[0m \u001B[0mkey_or_keys\u001B[0m\u001B[0;34m]\u001B[0m\u001B[0;34m)\u001B[0m\u001B[0;34m\u001B[0m\u001B[0;34m\u001B[0m\u001B[0m\n",
      "\u001B[0;32m~/anaconda3/envs/nlp_gensim/lib/python3.9/site-packages/gensim/models/keyedvectors.py\u001B[0m in \u001B[0;36mget_vector\u001B[0;34m(self, key, norm)\u001B[0m\n\u001B[1;32m    420\u001B[0m \u001B[0;34m\u001B[0m\u001B[0m\n\u001B[1;32m    421\u001B[0m         \"\"\"\n\u001B[0;32m--> 422\u001B[0;31m         \u001B[0mindex\u001B[0m \u001B[0;34m=\u001B[0m \u001B[0mself\u001B[0m\u001B[0;34m.\u001B[0m\u001B[0mget_index\u001B[0m\u001B[0;34m(\u001B[0m\u001B[0mkey\u001B[0m\u001B[0;34m)\u001B[0m\u001B[0;34m\u001B[0m\u001B[0;34m\u001B[0m\u001B[0m\n\u001B[0m\u001B[1;32m    423\u001B[0m         \u001B[0;32mif\u001B[0m \u001B[0mnorm\u001B[0m\u001B[0;34m:\u001B[0m\u001B[0;34m\u001B[0m\u001B[0;34m\u001B[0m\u001B[0m\n\u001B[1;32m    424\u001B[0m             \u001B[0mself\u001B[0m\u001B[0;34m.\u001B[0m\u001B[0mfill_norms\u001B[0m\u001B[0;34m(\u001B[0m\u001B[0;34m)\u001B[0m\u001B[0;34m\u001B[0m\u001B[0;34m\u001B[0m\u001B[0m\n",
      "\u001B[0;32m~/anaconda3/envs/nlp_gensim/lib/python3.9/site-packages/gensim/models/keyedvectors.py\u001B[0m in \u001B[0;36mget_index\u001B[0;34m(self, key, default)\u001B[0m\n\u001B[1;32m    394\u001B[0m             \u001B[0;32mreturn\u001B[0m \u001B[0mdefault\u001B[0m\u001B[0;34m\u001B[0m\u001B[0;34m\u001B[0m\u001B[0m\n\u001B[1;32m    395\u001B[0m         \u001B[0;32melse\u001B[0m\u001B[0;34m:\u001B[0m\u001B[0;34m\u001B[0m\u001B[0;34m\u001B[0m\u001B[0m\n\u001B[0;32m--> 396\u001B[0;31m             \u001B[0;32mraise\u001B[0m \u001B[0mKeyError\u001B[0m\u001B[0;34m(\u001B[0m\u001B[0;34mf\"Key '{key}' not present\"\u001B[0m\u001B[0;34m)\u001B[0m\u001B[0;34m\u001B[0m\u001B[0;34m\u001B[0m\u001B[0m\n\u001B[0m\u001B[1;32m    397\u001B[0m \u001B[0;34m\u001B[0m\u001B[0m\n\u001B[1;32m    398\u001B[0m     \u001B[0;32mdef\u001B[0m \u001B[0mget_vector\u001B[0m\u001B[0;34m(\u001B[0m\u001B[0mself\u001B[0m\u001B[0;34m,\u001B[0m \u001B[0mkey\u001B[0m\u001B[0;34m,\u001B[0m \u001B[0mnorm\u001B[0m\u001B[0;34m=\u001B[0m\u001B[0;32mFalse\u001B[0m\u001B[0;34m)\u001B[0m\u001B[0;34m:\u001B[0m\u001B[0;34m\u001B[0m\u001B[0;34m\u001B[0m\u001B[0m\n",
      "\u001B[0;31mKeyError\u001B[0m: \"Key 'frau' not present\""
     ]
    }
   ],
   "source": [
    "pairs = [\n",
    "    ('frau', 'frau'),\n",
    "    ('frau', 'deutsch'),\n",
    "    #('frau', 'hat'),\n",
    "    ('frau', 'mann'),\n",
    "    ('frau', 'mensch'),\n",
    "    ('frau', 'eigentlich'),\n",
    "    ('frau', 'zahnarz'),\n",
    "    ('mann', 'zahnarz')\n",
    "    #('mann', 'zahnarz')\n",
    "]\n",
    "\n",
    "for w1, w2 in pairs:\n",
    "    print('%r\\t%r\\t%.2f' % (w1, w2, model.wv.similarity(w1, w2)))"
   ]
  },
  {
   "cell_type": "code",
   "execution_count": 13,
   "id": "faa11b3f-e4d3-4719-b5d8-ebc02ab3a3af",
   "metadata": {},
   "outputs": [
    {
     "name": "stdout",
     "output_type": "stream",
     "text": [
      "[('fuhrungspositio', 0.854916512966156), ('bedach', 0.8507602214813232), ('wozu', 0.8441033959388733), ('istdass', 0.840337872505188), ('diedie', 0.8359581232070923), ('nderfluid', 0.835375964641571), ('ehrenw', 0.8347028493881226), ('tatsachl', 0.8345174789428711), ('diekmann', 0.8343234062194824), ('mihigru', 0.8340935111045837)]\n"
     ]
    }
   ],
   "source": [
    "print(model.wv.most_similar(positive=['frau', 'deutsch', 'einfach'], topn=10))"
   ]
  },
  {
   "cell_type": "code",
   "execution_count": 17,
   "id": "90880f69-7f9a-4e82-97cd-a75adb0d5f43",
   "metadata": {},
   "outputs": [
    {
     "name": "stdout",
     "output_type": "stream",
     "text": [
      "[('f9', 0.6931021809577942), ('b1048', 0.6900892853736877), ('koenigsmann', 0.6841893196105957), ('preflow', 0.6839394569396973), ('musk', 0.6830636262893677), ('sixteenth', 0.6705995798110962), ('rtf', 0.6685316562652588), ('mostflow', 0.6650721430778503), ('ofcourseistillloveyou', 0.664594829082489), ('b10517', 0.6589335799217224)]\n"
     ]
    }
   ],
   "source": [
    "print(model.wv.most_similar(positive=['elo'], topn=10))"
   ]
  },
  {
   "cell_type": "code",
   "execution_count": 14,
   "id": "c10b0b74-441d-40a0-8fa2-655e01303ea4",
   "metadata": {},
   "outputs": [
    {
     "name": "stdout",
     "output_type": "stream",
     "text": [
      "[('fuhrungspositio', 0.8700457215309143), ('menstruier', 0.8601241707801819), ('cis', 0.8567571640014648), ('nderfluid', 0.8481584191322327), ('diekmann', 0.8432794213294983), ('transg', 0.8415762186050415), ('diskriminier', 0.8389608263969421), ('heterosexuell', 0.8335394859313965), ('hetero', 0.8319412469863892), ('transsexuell', 0.8256118297576904)]\n"
     ]
    }
   ],
   "source": [
    "print(model.wv.most_similar(positive=['frau', 'mann', 'einfach'], topn=10))"
   ]
  },
  {
   "cell_type": "code",
   "execution_count": 15,
   "id": "372a928c-ae65-4586-a0c9-475a16e427a7",
   "metadata": {},
   "outputs": [
    {
     "name": "stdout",
     "output_type": "stream",
     "text": [
      "[('staatsangehorigkei', 0.8638187646865845), ('dt', 0.8447890281677246), ('alliier', 0.8401046991348267), ('amtssprach', 0.8331677317619324), ('islamisier', 0.8321091532707214), ('staatsburg', 0.8303978443145752), ('schutzzo', 0.8299842476844788), ('chil', 0.8296916484832764), ('masseneinwanderung', 0.8284094929695129), ('wwf', 0.82839435338974)]\n"
     ]
    }
   ],
   "source": [
    "print(model.wv.most_similar(positive=['deutschla', 'deutsch'], topn=10))"
   ]
  },
  {
   "cell_type": "code",
   "execution_count": 16,
   "id": "3fde94d3-6d93-421d-8c75-61ffcc59c264",
   "metadata": {},
   "outputs": [
    {
     "name": "stdout",
     "output_type": "stream",
     "text": [
      "[('mann', 0.8960163593292236), ('weiblich', 0.7824152112007141), ('schwul', 0.7780516743659973), ('fuhrungspositio', 0.7742252945899963), ('menstruier', 0.7705603241920471), ('fr', 0.768467128276825), ('lesbisch', 0.7672699093818665), ('cis', 0.763115644454956), ('transsexuell', 0.7594537138938904), ('transg', 0.7569398880004883)]\n"
     ]
    }
   ],
   "source": [
    "print(model.wv.most_similar(positive=['frau'], topn=10))"
   ]
  },
  {
   "cell_type": "code",
   "execution_count": 17,
   "id": "209d6078-9780-44e3-9c12-2fde648d6a70",
   "metadata": {},
   "outputs": [
    {
     "name": "stdout",
     "output_type": "stream",
     "text": [
      "[('hausarzti', 0.9121438264846802), ('ungel', 0.9001254439353943), ('krankenpfleg', 0.8994037508964539), ('hebamm', 0.8988788723945618), ('kassiererinn', 0.8953143358230591), ('diplom', 0.8911609053611755), ('artig', 0.8911332488059998), ('steuerbera', 0.8908710479736328), ('anzuruf', 0.8900642991065979), ('apothekerinn', 0.8887056112289429)]\n"
     ]
    }
   ],
   "source": [
    "print(model.wv.most_similar(positive=['zahnarz'], topn=10))"
   ]
  },
  {
   "cell_type": "code",
   "execution_count": 18,
   "id": "ff10bc53-6e3c-415f-a3c7-ee203bd834db",
   "metadata": {},
   "outputs": [
    {
     "name": "stdout",
     "output_type": "stream",
     "text": [
      "[('word', 0.7806714773178101), ('wiederkomm', 0.7724742293357849), ('beginn', 0.7633434534072876), ('bang', 0.7630654573440552), ('ruckfall', 0.7624064087867737), ('ligh', 0.752379298210144), ('ausruf', 0.7379752397537231), ('fin', 0.735625684261322), ('wiederkehr', 0.7333568930625916), ('uberwu', 0.7310155630111694)]\n"
     ]
    }
   ],
   "source": [
    "print(model.wv.most_similar(positive=['end'], topn=10))"
   ]
  },
  {
   "cell_type": "code",
   "execution_count": 19,
   "id": "2c6744da-cc66-46eb-aaeb-375bc48e9f2f",
   "metadata": {},
   "outputs": [
    {
     "name": "stdout",
     "output_type": "stream",
     "text": [
      "[('npd', 0.8942745327949524), ('altpartei', 0.8857232332229614), ('ramelow', 0.8720541596412659), ('cdu', 0.8675476312637329), ('bt', 0.8491915464401245), ('faschi', 0.8455417156219482), ('kalbitz', 0.8439045548439026), ('koalier', 0.843462347984314), ('flugel', 0.8431350588798523), ('kemmerich', 0.8429465889930725)]\n"
     ]
    }
   ],
   "source": [
    "print(model.wv.most_similar(positive=['afd'], topn=10))"
   ]
  },
  {
   "cell_type": "code",
   "execution_count": 20,
   "id": "92d59d2f-229f-4ebe-b935-067ccac8b70d",
   "metadata": {},
   "outputs": [
    {
     "name": "stdout",
     "output_type": "stream",
     "text": [
      "[('fdp', 0.9483650922775269), ('spd', 0.9469727277755737), ('koalitio', 0.9168410301208496), ('cducsu', 0.9045897126197815), ('csu', 0.8953536152839661), ('volkspartei', 0.8888271450996399), ('kanzlerkandida', 0.8878781199455261), ('linkspartei', 0.8877407908439636), ('unio', 0.8864145278930664), ('zweitstimm', 0.8800886869430542)]\n"
     ]
    }
   ],
   "source": [
    "print(model.wv.most_similar(positive=['cdu'], topn=10))"
   ]
  },
  {
   "cell_type": "code",
   "execution_count": 21,
   "id": "7f5501c4-9fad-4c61-8c48-976e10649f34",
   "metadata": {},
   "outputs": [
    {
     "name": "stdout",
     "output_type": "stream",
     "text": [
      "[('cducsu', 0.9011437296867371), ('cdu', 0.8953537344932556), ('koalitionspar', 0.892500102519989), ('unio', 0.8887526392936707), ('zweitstimm', 0.8885459899902344), ('klingbeil', 0.8881409764289856), ('linksruck', 0.8836401104927063), ('spdvorsitz', 0.8836240172386169), ('koalitio', 0.8826844096183777), ('grunro', 0.8825855851173401)]\n"
     ]
    }
   ],
   "source": [
    "print(model.wv.most_similar(positive=['csu'], topn=10))"
   ]
  },
  {
   "cell_type": "code",
   "execution_count": 22,
   "id": "3c2afb91-af9e-4573-ab16-f68680bd250a",
   "metadata": {},
   "outputs": [
    {
     "name": "stdout",
     "output_type": "stream",
     "text": [
      "[('cdu', 0.9483649730682373), ('spd', 0.9283211827278137), ('cducsu', 0.9180498719215393), ('zweitstimm', 0.8811129331588745), ('fw', 0.8774774074554443), ('koalitio', 0.8748432993888855), ('unio', 0.8732982873916626), ('erststimm', 0.8687703013420105), ('csu', 0.8670068979263306), ('partei', 0.8645967841148376)]\n"
     ]
    }
   ],
   "source": [
    "print(model.wv.most_similar(positive=['fdp'], topn=10))"
   ]
  },
  {
   "cell_type": "code",
   "execution_count": 23,
   "id": "aa8e88fe-27bb-437d-8ca1-444c888a1965",
   "metadata": {},
   "outputs": [
    {
     "name": "stdout",
     "output_type": "stream",
     "text": [
      "[('spdfraktio', 0.9688435792922974), ('thuringisch', 0.9660668969154358), ('23mehrhei', 0.9618275165557861), ('273', 0.9613721370697021), ('blockadehaltung', 0.9607844352722168), ('klimali', 0.9599866271018982), ('obkandida', 0.958749532699585), ('stimmenanteil', 0.9574214816093445), ('535', 0.9569948315620422), ('545', 0.9547545909881592)]\n"
     ]
    }
   ],
   "source": [
    "print(model.wv.most_similar(positive=['lkr'], topn=10))"
   ]
  },
  {
   "cell_type": "code",
   "execution_count": 24,
   "id": "95e815e5-0d5c-4f10-8b7e-e2a514a44955",
   "metadata": {},
   "outputs": [
    {
     "name": "stdout",
     "output_type": "stream",
     "text": [
      "[('vielflieg', 0.8438335657119751), ('spd', 0.8301751613616943), ('grr', 0.8293755054473877), ('cducsu', 0.8144592046737671), ('grunro', 0.812215268611908), ('90die', 0.8096510767936707), ('cdu', 0.8045805096626282), ('grunrotro', 0.7999962568283081), ('sozialdemokratisch', 0.7984183430671692), ('koalier', 0.7974988222122192)]\n"
     ]
    }
   ],
   "source": [
    "print(model.wv.most_similar(positive=['gru'], topn=10))"
   ]
  },
  {
   "cell_type": "code",
   "execution_count": 25,
   "id": "69c6fff7-9beb-4373-80ad-ee8de46b430a",
   "metadata": {},
   "outputs": [
    {
     "name": "stdout",
     "output_type": "stream",
     "text": [
      "[('cdu', 0.946972668170929), ('fdp', 0.9283212423324585), ('cducsu', 0.906523585319519), ('koalitio', 0.8867268562316895), ('csu', 0.878409743309021), ('unio', 0.8595377802848816), ('zweitstimm', 0.8590611815452576), ('cdul', 0.8576090335845947), ('linkspartei', 0.8564978837966919), ('rotgru', 0.8564102649688721)]\n"
     ]
    }
   ],
   "source": [
    "print(model.wv.most_similar(positive=['spd'], topn=10))"
   ]
  },
  {
   "cell_type": "code",
   "execution_count": 26,
   "id": "006241a1-528c-45b7-a0e4-06b60d64b19b",
   "metadata": {},
   "outputs": [
    {
     "name": "stdout",
     "output_type": "stream",
     "text": [
      "[('fuhrungsrieg', 0.975919783115387), ('ortsvorsteh', 0.9727416038513184), ('landescdu', 0.9717168211936951), ('abweg', 0.9713981747627258), ('dehm', 0.9702876806259155), ('wendehal', 0.9695779085159302), ('mitwahl', 0.969078779220581), ('parteiaustritt', 0.9680103659629822), ('afdstimm', 0.9674060344696045), ('vizechef', 0.967309296131134)]\n"
     ]
    }
   ],
   "source": [
    "print(model.wv.most_similar(positive=['dielink'], topn=10))"
   ]
  },
  {
   "cell_type": "code",
   "execution_count": 27,
   "id": "a0122207-b378-4a37-a1d4-f95b3f553068",
   "metadata": {},
   "outputs": [
    {
     "name": "stdout",
     "output_type": "stream",
     "text": [
      "[('lder', 0.927870512008667), ('zentralbank', 0.8833544254302979), ('kredi', 0.8832144737243652), ('negativzi', 0.8806372880935669), ('staatshaushal', 0.8802966475486755), ('subventionier', 0.8802087903022766), ('entwicklungshilf', 0.8775474429130554), ('anleih', 0.8748691082000732), ('zuruckzahl', 0.8735208511352539), ('genleistung', 0.8732107877731323)]\n"
     ]
    }
   ],
   "source": [
    "print(model.wv.most_similar(positive=['ezb'], topn=10))"
   ]
  },
  {
   "cell_type": "code",
   "execution_count": 28,
   "id": "ef1ffac1-bd64-435c-b743-c5a7af9498e1",
   "metadata": {},
   "outputs": [
    {
     "name": "stdout",
     "output_type": "stream",
     "text": [
      "[('boni', 0.9215742349624634), ('rucklag', 0.9185839891433716), ('rettungspak', 0.9184892177581787), ('euhaushal', 0.916375458240509), ('bundeshaushal', 0.915538489818573), ('950', 0.9139079451560974), ('burgschaf', 0.9132876396179199), ('milliardenhoh', 0.9102363586425781), ('finanzmini', 0.9089623689651489), ('hilfspak', 0.9056674242019653)]\n"
     ]
    }
   ],
   "source": [
    "print(model.wv.most_similar(positive=['ezb', 'lagard', 'euro'], topn=10))"
   ]
  },
  {
   "cell_type": "code",
   "execution_count": 29,
   "id": "5425f49f-7187-4bbb-8b9d-6054ca2f4c5e",
   "metadata": {},
   "outputs": [
    {
     "name": "stdout",
     "output_type": "stream",
     "text": [
      "[('uberwie', 0.9282001256942749), ('jahreseinkomm', 0.9274791479110718), ('lappisch', 0.9273765087127686), ('ergau', 0.9206568002700806), ('zehnfach', 0.9205203652381897), ('950', 0.9204089045524597), ('dienstwag', 0.9194821715354919), ('einmalzahlung', 0.9194193482398987), ('coronasoforthilf', 0.9189321398735046), ('honorar', 0.9173020124435425)]\n"
     ]
    }
   ],
   "source": [
    "print(model.wv.most_similar(positive=['shitcoi', 'euro'], topn=10))"
   ]
  },
  {
   "cell_type": "code",
   "execution_count": 30,
   "id": "c4227ac0-84a4-4b2e-836a-f6c044f9912b",
   "metadata": {},
   "outputs": [
    {
     "name": "stdout",
     "output_type": "stream",
     "text": [
      "[('silb', 0.9022963047027588), ('asche', 0.8018727898597717), ('leih', 0.796103298664093), ('eich', 0.7865476608276367), ('zitro', 0.778553307056427), ('munz', 0.7716904878616333), ('kalorie', 0.7714682221412659), ('schipp', 0.7641925811767578), ('ferrari', 0.762031614780426), ('pump', 0.761747419834137)]\n"
     ]
    }
   ],
   "source": [
    "print(model.wv.most_similar(positive=['gold'], topn=10))"
   ]
  },
  {
   "cell_type": "code",
   "execution_count": 31,
   "id": "3ba5880f-274f-429b-ae3f-1cb4944f0fbc",
   "metadata": {},
   "outputs": [
    {
     "name": "stdout",
     "output_type": "stream",
     "text": [
      "ezb\n"
     ]
    }
   ],
   "source": [
    "print(model.wv.doesnt_match(['ezb', 'rechtigkei', 'zukunf', 'stabilita']))"
   ]
  },
  {
   "cell_type": "code",
   "execution_count": 32,
   "id": "d399a5bb-ae20-4462-9304-cef4bae25ee7",
   "metadata": {},
   "outputs": [
    {
     "name": "stdout",
     "output_type": "stream",
     "text": [
      "einfach\n"
     ]
    }
   ],
   "source": [
    "print(model.wv.doesnt_match(['frau', 'mann', 'land', 'einfach', 'lass', 'kind']))"
   ]
  },
  {
   "cell_type": "code",
   "execution_count": 33,
   "id": "93d4c0b8-27f4-4eb2-9bf2-7a4f46c6a7f7",
   "metadata": {},
   "outputs": [
    {
     "name": "stdout",
     "output_type": "stream",
     "text": [
      "mal\n"
     ]
    }
   ],
   "source": [
    "print(model.wv.doesnt_match(['mal', 'einfach', 'land', 'deutschla', 'lass', 'kind']))"
   ]
  }
 ],
 "metadata": {
  "kernelspec": {
   "display_name": "Python 3",
   "language": "python",
   "name": "python3"
  },
  "language_info": {
   "codemirror_mode": {
    "name": "ipython",
    "version": 3
   },
   "file_extension": ".py",
   "mimetype": "text/x-python",
   "name": "python",
   "nbconvert_exporter": "python",
   "pygments_lexer": "ipython3",
   "version": "3.9.4"
  }
 },
 "nbformat": 4,
 "nbformat_minor": 5
}